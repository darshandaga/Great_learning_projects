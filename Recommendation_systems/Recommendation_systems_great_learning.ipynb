{
 "cells": [
  {
   "cell_type": "code",
   "execution_count": 2,
   "metadata": {},
   "outputs": [],
   "source": [
    "# Imports\n",
    "import pandas as pd, numpy as np, matplotlib.pyplot as plt, seaborn as sns\n",
    "import matplotlib.style as style; style.use('fivethirtyeight')\n",
    "from sklearn.model_selection import train_test_split\n",
    "from sklearn.metrics import mean_squared_error\n",
    "from scipy.sparse.linalg import svds\n",
    "import gc\n",
    "%matplotlib inline\n",
    "\n",
    "# Surprise package for making recommendation\n",
    "from surprise import KNNBaseline, KNNBasic, KNNWithMeans, KNNWithZScore\n",
    "from surprise.model_selection import GridSearchCV, cross_validate, KFold\n",
    "from surprise import accuracy, Reader, Dataset, dump\n",
    "\n",
    "# For Sklearn NearestNeighbor based recommendation\n",
    "from sklearn.metrics import pairwise_distances, mean_squared_error\n",
    "from scipy.spatial.distance import correlation, cosine\n",
    "from sklearn.neighbors import NearestNeighbors\n",
    "from scipy.sparse import csr_matrix\n",
    "import sklearn.metrics as metrics\n",
    "from math import sqrt\n",
    "\n",
    "# Display settings\n",
    "pd.options.display.max_rows = 999\n",
    "pd.options.display.max_columns = 20\n",
    "pd.options.display.float_format = \"{:.2f}\".format\n",
    "\n",
    "random_state = 2019\n",
    "np.random.seed(random_state)\n",
    "\n",
    "# Suppress warnings\n",
    "import warnings; warnings.filterwarnings('ignore')"
   ]
  },
  {
   "cell_type": "code",
   "execution_count": 3,
   "metadata": {},
   "outputs": [
    {
     "data": {
      "text/html": [
       "<div>\n",
       "<style scoped>\n",
       "    .dataframe tbody tr th:only-of-type {\n",
       "        vertical-align: middle;\n",
       "    }\n",
       "\n",
       "    .dataframe tbody tr th {\n",
       "        vertical-align: top;\n",
       "    }\n",
       "\n",
       "    .dataframe thead th {\n",
       "        text-align: right;\n",
       "    }\n",
       "</style>\n",
       "<table border=\"1\" class=\"dataframe\">\n",
       "  <thead>\n",
       "    <tr style=\"text-align: right;\">\n",
       "      <th></th>\n",
       "      <th>UserID</th>\n",
       "      <th>ProductID</th>\n",
       "      <th>Rating</th>\n",
       "      <th>Timestamp</th>\n",
       "    </tr>\n",
       "  </thead>\n",
       "  <tbody>\n",
       "    <tr>\n",
       "      <th>0</th>\n",
       "      <td>AKM1MP6P0OYPR</td>\n",
       "      <td>0132793040</td>\n",
       "      <td>5.00</td>\n",
       "      <td>1365811200</td>\n",
       "    </tr>\n",
       "    <tr>\n",
       "      <th>1</th>\n",
       "      <td>A2CX7LUOHB2NDG</td>\n",
       "      <td>0321732944</td>\n",
       "      <td>5.00</td>\n",
       "      <td>1341100800</td>\n",
       "    </tr>\n",
       "    <tr>\n",
       "      <th>2</th>\n",
       "      <td>A2NWSAGRHCP8N5</td>\n",
       "      <td>0439886341</td>\n",
       "      <td>1.00</td>\n",
       "      <td>1367193600</td>\n",
       "    </tr>\n",
       "    <tr>\n",
       "      <th>3</th>\n",
       "      <td>A2WNBOD3WNDNKT</td>\n",
       "      <td>0439886341</td>\n",
       "      <td>3.00</td>\n",
       "      <td>1374451200</td>\n",
       "    </tr>\n",
       "    <tr>\n",
       "      <th>4</th>\n",
       "      <td>A1GI0U4ZRJA8WN</td>\n",
       "      <td>0439886341</td>\n",
       "      <td>1.00</td>\n",
       "      <td>1334707200</td>\n",
       "    </tr>\n",
       "  </tbody>\n",
       "</table>\n",
       "</div>"
      ],
      "text/plain": [
       "           UserID   ProductID  Rating   Timestamp\n",
       "0   AKM1MP6P0OYPR  0132793040    5.00  1365811200\n",
       "1  A2CX7LUOHB2NDG  0321732944    5.00  1341100800\n",
       "2  A2NWSAGRHCP8N5  0439886341    1.00  1367193600\n",
       "3  A2WNBOD3WNDNKT  0439886341    3.00  1374451200\n",
       "4  A1GI0U4ZRJA8WN  0439886341    1.00  1334707200"
      ]
     },
     "execution_count": 3,
     "metadata": {},
     "output_type": "execute_result"
    }
   ],
   "source": [
    "ratings = pd.read_csv(r'D:\\great_learning\\Recommendation_systems\\ratings_Electronics.csv', header = None)\n",
    "ratings.columns = ['UserID', 'ProductID', 'Rating', 'Timestamp']\n",
    "ratings.head()"
   ]
  },
  {
   "cell_type": "code",
   "execution_count": 5,
   "metadata": {},
   "outputs": [
    {
     "name": "stdout",
     "output_type": "stream",
     "text": [
      "<class 'pandas.core.frame.DataFrame'>\n",
      "RangeIndex: 7824482 entries, 0 to 7824481\n",
      "Data columns (total 4 columns):\n",
      " #   Column     Dtype  \n",
      "---  ------     -----  \n",
      " 0   UserID     object \n",
      " 1   ProductID  object \n",
      " 2   Rating     float64\n",
      " 3   Timestamp  int64  \n",
      "dtypes: float64(1), int64(1), object(2)\n",
      "memory usage: 238.8+ MB\n"
     ]
    }
   ],
   "source": [
    "# Get info of the dataframe columns\n",
    "ratings.info()"
   ]
  },
  {
   "cell_type": "code",
   "execution_count": 6,
   "metadata": {},
   "outputs": [
    {
     "data": {
      "text/plain": [
       "UserID       0\n",
       "ProductID    0\n",
       "Rating       0\n",
       "Timestamp    0\n",
       "dtype: int64"
      ]
     },
     "execution_count": 6,
     "metadata": {},
     "output_type": "execute_result"
    }
   ],
   "source": [
    "# Check if there any null values in the dataframe\n",
    "ratings.isnull().sum()"
   ]
  },
  {
   "cell_type": "code",
   "execution_count": 7,
   "metadata": {},
   "outputs": [
    {
     "name": "stdout",
     "output_type": "stream",
     "text": [
      "Dataset has no duplicate rows\n",
      "--------------------------------------------------------------------------------\n"
     ]
    },
    {
     "data": {
      "text/html": [
       "<div>\n",
       "<style scoped>\n",
       "    .dataframe tbody tr th:only-of-type {\n",
       "        vertical-align: middle;\n",
       "    }\n",
       "\n",
       "    .dataframe tbody tr th {\n",
       "        vertical-align: top;\n",
       "    }\n",
       "\n",
       "    .dataframe thead th {\n",
       "        text-align: right;\n",
       "    }\n",
       "</style>\n",
       "<table border=\"1\" class=\"dataframe\">\n",
       "  <thead>\n",
       "    <tr style=\"text-align: right;\">\n",
       "      <th></th>\n",
       "      <th>UserID</th>\n",
       "      <th>ProductID</th>\n",
       "      <th>Rating</th>\n",
       "      <th>Timestamp</th>\n",
       "    </tr>\n",
       "  </thead>\n",
       "  <tbody>\n",
       "  </tbody>\n",
       "</table>\n",
       "</div>"
      ],
      "text/plain": [
       "Empty DataFrame\n",
       "Columns: [UserID, ProductID, Rating, Timestamp]\n",
       "Index: []"
      ]
     },
     "execution_count": 7,
     "metadata": {},
     "output_type": "execute_result"
    }
   ],
   "source": [
    "# Check if there are any duplicate rows\n",
    "print('Dataset has no duplicate rows')\n",
    "ratings[ratings.duplicated(keep = 'first')]"
   ]
  },
  {
   "cell_type": "code",
   "execution_count": 8,
   "metadata": {},
   "outputs": [
    {
     "data": {
      "text/plain": [
       "[1.0, 2.0, 3.0, 4.0, 5.0]"
      ]
     },
     "execution_count": 8,
     "metadata": {},
     "output_type": "execute_result"
    }
   ],
   "source": [
    "# Checking the uniques in `Rating` column\n",
    "sorted(list(ratings['Rating'].unique()))"
   ]
  },
  {
   "cell_type": "markdown",
   "metadata": {},
   "source": [
    "<a id='o1'></a>\n",
    "#### Observation 1 - Dataset shape\n",
    "Dataset has more than 7.8 million reviews and with information regarding user id, product id, rating and timestamp. There are no missing values and duplicates in the dataset. Ratings are on the scale of 1-5."
   ]
  },
  {
   "cell_type": "markdown",
   "metadata": {},
   "source": [
    "<a id='o2'></a>\n",
    "#### Observation 2 - Information on the type of variable\n",
    "\n",
    "* `userID`: Every user identified with a unique id (Categorical, Nominal).\n",
    "* `productID`: Every product identified with a unique id (Categorical, Nominal).\n",
    "* `Rating`: Rating of the corresponding product by the corresponding user (Numerical, Discrete).\n",
    "* `Timestamp`: Time of the rating (Timestamp)."
   ]
  },
  {
   "cell_type": "code",
   "execution_count": 9,
   "metadata": {},
   "outputs": [
    {
     "data": {
      "text/html": [
       "<div>\n",
       "<style scoped>\n",
       "    .dataframe tbody tr th:only-of-type {\n",
       "        vertical-align: middle;\n",
       "    }\n",
       "\n",
       "    .dataframe tbody tr th {\n",
       "        vertical-align: top;\n",
       "    }\n",
       "\n",
       "    .dataframe thead th {\n",
       "        text-align: right;\n",
       "    }\n",
       "</style>\n",
       "<table border=\"1\" class=\"dataframe\">\n",
       "  <thead>\n",
       "    <tr style=\"text-align: right;\">\n",
       "      <th></th>\n",
       "      <th>UserID</th>\n",
       "      <th>ProductID</th>\n",
       "      <th>Rating</th>\n",
       "      <th>Timestamp</th>\n",
       "    </tr>\n",
       "  </thead>\n",
       "  <tbody>\n",
       "    <tr>\n",
       "      <th>count</th>\n",
       "      <td>7824482</td>\n",
       "      <td>7824482</td>\n",
       "      <td>7824482.00</td>\n",
       "      <td>7824482.00</td>\n",
       "    </tr>\n",
       "    <tr>\n",
       "      <th>unique</th>\n",
       "      <td>4201696</td>\n",
       "      <td>476002</td>\n",
       "      <td>nan</td>\n",
       "      <td>nan</td>\n",
       "    </tr>\n",
       "    <tr>\n",
       "      <th>top</th>\n",
       "      <td>A5JLAU2ARJ0BO</td>\n",
       "      <td>B0074BW614</td>\n",
       "      <td>nan</td>\n",
       "      <td>nan</td>\n",
       "    </tr>\n",
       "    <tr>\n",
       "      <th>freq</th>\n",
       "      <td>520</td>\n",
       "      <td>18244</td>\n",
       "      <td>nan</td>\n",
       "      <td>nan</td>\n",
       "    </tr>\n",
       "    <tr>\n",
       "      <th>mean</th>\n",
       "      <td>NaN</td>\n",
       "      <td>NaN</td>\n",
       "      <td>4.01</td>\n",
       "      <td>1338178197.27</td>\n",
       "    </tr>\n",
       "    <tr>\n",
       "      <th>std</th>\n",
       "      <td>NaN</td>\n",
       "      <td>NaN</td>\n",
       "      <td>1.38</td>\n",
       "      <td>69004257.79</td>\n",
       "    </tr>\n",
       "    <tr>\n",
       "      <th>min</th>\n",
       "      <td>NaN</td>\n",
       "      <td>NaN</td>\n",
       "      <td>1.00</td>\n",
       "      <td>912729600.00</td>\n",
       "    </tr>\n",
       "    <tr>\n",
       "      <th>25%</th>\n",
       "      <td>NaN</td>\n",
       "      <td>NaN</td>\n",
       "      <td>3.00</td>\n",
       "      <td>1315353600.00</td>\n",
       "    </tr>\n",
       "    <tr>\n",
       "      <th>50%</th>\n",
       "      <td>NaN</td>\n",
       "      <td>NaN</td>\n",
       "      <td>5.00</td>\n",
       "      <td>1361059200.00</td>\n",
       "    </tr>\n",
       "    <tr>\n",
       "      <th>75%</th>\n",
       "      <td>NaN</td>\n",
       "      <td>NaN</td>\n",
       "      <td>5.00</td>\n",
       "      <td>1386115200.00</td>\n",
       "    </tr>\n",
       "    <tr>\n",
       "      <th>max</th>\n",
       "      <td>NaN</td>\n",
       "      <td>NaN</td>\n",
       "      <td>5.00</td>\n",
       "      <td>1406073600.00</td>\n",
       "    </tr>\n",
       "  </tbody>\n",
       "</table>\n",
       "</div>"
      ],
      "text/plain": [
       "               UserID   ProductID     Rating     Timestamp\n",
       "count         7824482     7824482 7824482.00    7824482.00\n",
       "unique        4201696      476002        nan           nan\n",
       "top     A5JLAU2ARJ0BO  B0074BW614        nan           nan\n",
       "freq              520       18244        nan           nan\n",
       "mean              NaN         NaN       4.01 1338178197.27\n",
       "std               NaN         NaN       1.38   69004257.79\n",
       "min               NaN         NaN       1.00  912729600.00\n",
       "25%               NaN         NaN       3.00 1315353600.00\n",
       "50%               NaN         NaN       5.00 1361059200.00\n",
       "75%               NaN         NaN       5.00 1386115200.00\n",
       "max               NaN         NaN       5.00 1406073600.00"
      ]
     },
     "execution_count": 9,
     "metadata": {},
     "output_type": "execute_result"
    }
   ],
   "source": [
    "### Five point summary of numerical attributes and check unique values in 'object' columns\n",
    "ratings.describe(include = 'all')"
   ]
  },
  {
   "cell_type": "markdown",
   "metadata": {},
   "source": [
    "<a id='o3'></a>\n",
    "#### Observation 3 - Descriptive statistics\n",
    "* **`UserID`**: Categorical column with alphanumeric user id. Number of users in the dataset: 4201696.\n",
    "* **`ProductID`**: Categorical column with some of the product ids being numerical entries and some being alphanumerics. Numbers of rated products: 476002.\n",
    "* **`Rating`**: Users have rated the products on the scale of 1 to 5.\n",
    "* **`Timestamp`**: Can be useful if we convert the numerical timestamp to datetime."
   ]
  },
  {
   "cell_type": "code",
   "execution_count": 10,
   "metadata": {},
   "outputs": [
    {
     "data": {
      "image/png": "[encoded data removed]",
      "text/plain": [
       "<Figure size 1080x518.4 with 2 Axes>"
      ]
     },
     "metadata": {
      "needs_background": "light"
     },
     "output_type": "display_data"
    }
   ],
   "source": [
    "fig = plt.figure(figsize = (15, 7.2))\n",
    "ax = fig.add_subplot(121)\n",
    "g = sns.distplot(ratings['Rating'], ax = ax).set_title('Distribution of Ratings')\n",
    "ax = fig.add_subplot(122)\n",
    "g = sns.countplot(ratings['Rating']).set_title('Count of Ratings')"
   ]
  },
  {
   "cell_type": "code",
   "execution_count": 11,
   "metadata": {},
   "outputs": [],
   "source": [
    "ratings['Timestamp'] = pd.to_datetime(ratings['Timestamp'], unit = 's')\n",
    "ratings['Year'] = ratings['Timestamp'].dt.year"
   ]
  },
  {
   "cell_type": "code",
   "execution_count": 12,
   "metadata": {},
   "outputs": [
    {
     "name": "stdout",
     "output_type": "stream",
     "text": [
      "Trend of ratings over the years\n",
      "--------------------------------------------------------------------------------\n"
     ]
    },
    {
     "data": {
      "image/png": "[encoded data removed]",
      "text/plain": [
       "<Figure size 1080x518.4 with 1 Axes>"
      ]
     },
     "metadata": {
      "needs_background": "light"
     },
     "output_type": "display_data"
    }
   ],
   "source": [
    "print('Trend of ratings over the years'); print('--'*40)\n",
    "ratings_over_years = ratings.groupby(by = 'Year', as_index = False)['Rating'].count()\n",
    "\n",
    "fig = plt.figure(figsize = (15, 7.2))\n",
    "g = sns.lineplot(x = 'Year', y = 'Rating', data = ratings_over_years).set_title('Trend of Ratings over the Years')\n",
    "\n",
    "del g, ratings_over_years"
   ]
  },
  {
   "cell_type": "code",
   "execution_count": 13,
   "metadata": {},
   "outputs": [
    {
     "name": "stdout",
     "output_type": "stream",
     "text": [
      "Yearwise Counts for Ratings. Trend is similar across rating category.\n",
      "Most of the users have rated 5 on products and highest number of ratings came in 2013.\n",
      "--------------------------------------------------------------------------------\n"
     ]
    },
    {
     "data": {
      "image/png": "[encoded data removed]",
      "text/plain": [
       "<Figure size 1080x518.4 with 5 Axes>"
      ]
     },
     "metadata": {
      "needs_background": "light"
     },
     "output_type": "display_data"
    }
   ],
   "source": [
    "#http://jonathansoma.com/lede/data-studio/classes/small-multiples/long-explanation-of-using-plt-subplots-to-create-small-multiples/\n",
    "print('Yearwise Counts for Ratings. Trend is similar across rating category.'); \n",
    "print('Most of the users have rated 5 on products and highest number of ratings came in 2013.'); print('--'*40)\n",
    "\n",
    "year_wise_ratings = pd.DataFrame(ratings.groupby(['Rating', 'Year'], as_index = False)['UserID'].count())\n",
    "year_wise_ratings.rename(columns = {'UserID': 'Counts'}, inplace = True)\n",
    "ratings_ = sorted(year_wise_ratings['Rating'].unique())\n",
    "\n",
    "fig, axes = plt.subplots(nrows = 2, ncols = 3, squeeze = False, figsize = (15, 7.2))\n",
    "plt.subplots_adjust(hspace = 0.5)\n",
    "axes_list = [item for sublist in axes for item in sublist] \n",
    "\n",
    "for rating in ratings_:\n",
    "    ax = axes_list.pop(0)\n",
    "    g = year_wise_ratings[year_wise_ratings['Rating'] == rating].plot(kind = 'bar', x ='Year', y = 'Counts', label = f'Rating = {rating}', \n",
    "                                                                  ax = ax, legend = True)\n",
    "    ax.set_title(f'Yearwise Count for Rating = {rating}')\n",
    "\n",
    "for ax in axes_list:\n",
    "    ax.remove()\n",
    "\n",
    "del ax, axes, axes_list, fig, rating, ratings_, year_wise_ratings"
   ]
  },
  {
   "cell_type": "code",
   "execution_count": 14,
   "metadata": {},
   "outputs": [
    {
     "name": "stdout",
     "output_type": "stream",
     "text": [
      "Adding a column with count of rating per user\n",
      "--------------------------------------------------------------------------------\n"
     ]
    },
    {
     "data": {
      "text/plain": [
       "(7824482, 6)"
      ]
     },
     "metadata": {},
     "output_type": "display_data"
    },
    {
     "data": {
      "text/html": [
       "<div>\n",
       "<style scoped>\n",
       "    .dataframe tbody tr th:only-of-type {\n",
       "        vertical-align: middle;\n",
       "    }\n",
       "\n",
       "    .dataframe tbody tr th {\n",
       "        vertical-align: top;\n",
       "    }\n",
       "\n",
       "    .dataframe thead th {\n",
       "        text-align: right;\n",
       "    }\n",
       "</style>\n",
       "<table border=\"1\" class=\"dataframe\">\n",
       "  <thead>\n",
       "    <tr style=\"text-align: right;\">\n",
       "      <th></th>\n",
       "      <th>UserID</th>\n",
       "      <th>ProductID</th>\n",
       "      <th>Rating</th>\n",
       "      <th>Timestamp</th>\n",
       "      <th>Year</th>\n",
       "      <th>UserIDCounts</th>\n",
       "    </tr>\n",
       "  </thead>\n",
       "  <tbody>\n",
       "    <tr>\n",
       "      <th>0</th>\n",
       "      <td>AKM1MP6P0OYPR</td>\n",
       "      <td>0132793040</td>\n",
       "      <td>5.00</td>\n",
       "      <td>2013-04-13</td>\n",
       "      <td>2013</td>\n",
       "      <td>2</td>\n",
       "    </tr>\n",
       "    <tr>\n",
       "      <th>1</th>\n",
       "      <td>A2CX7LUOHB2NDG</td>\n",
       "      <td>0321732944</td>\n",
       "      <td>5.00</td>\n",
       "      <td>2012-07-01</td>\n",
       "      <td>2012</td>\n",
       "      <td>4</td>\n",
       "    </tr>\n",
       "    <tr>\n",
       "      <th>2</th>\n",
       "      <td>A2NWSAGRHCP8N5</td>\n",
       "      <td>0439886341</td>\n",
       "      <td>1.00</td>\n",
       "      <td>2013-04-29</td>\n",
       "      <td>2013</td>\n",
       "      <td>1</td>\n",
       "    </tr>\n",
       "    <tr>\n",
       "      <th>3</th>\n",
       "      <td>A2WNBOD3WNDNKT</td>\n",
       "      <td>0439886341</td>\n",
       "      <td>3.00</td>\n",
       "      <td>2013-07-22</td>\n",
       "      <td>2013</td>\n",
       "      <td>1</td>\n",
       "    </tr>\n",
       "    <tr>\n",
       "      <th>4</th>\n",
       "      <td>A1GI0U4ZRJA8WN</td>\n",
       "      <td>0439886341</td>\n",
       "      <td>1.00</td>\n",
       "      <td>2012-04-18</td>\n",
       "      <td>2012</td>\n",
       "      <td>1</td>\n",
       "    </tr>\n",
       "  </tbody>\n",
       "</table>\n",
       "</div>"
      ],
      "text/plain": [
       "           UserID   ProductID  Rating  Timestamp  Year  UserIDCounts\n",
       "0   AKM1MP6P0OYPR  0132793040    5.00 2013-04-13  2013             2\n",
       "1  A2CX7LUOHB2NDG  0321732944    5.00 2012-07-01  2012             4\n",
       "2  A2NWSAGRHCP8N5  0439886341    1.00 2013-04-29  2013             1\n",
       "3  A2WNBOD3WNDNKT  0439886341    3.00 2013-07-22  2013             1\n",
       "4  A1GI0U4ZRJA8WN  0439886341    1.00 2012-04-18  2012             1"
      ]
     },
     "metadata": {},
     "output_type": "display_data"
    }
   ],
   "source": [
    "print('Adding a column with count of rating per user'); print('--'*40)\n",
    "userid = ratings['UserID'].value_counts()\n",
    "userid = pd.DataFrame(userid).reset_index()\n",
    "userid.columns = ['UserID', 'UserIDCounts']\n",
    "\n",
    "ratings_df = ratings.merge(userid, how = 'left', on = ['UserID'])\n",
    "display(ratings_df.shape, ratings_df.head())\n",
    "\n",
    "del userid"
   ]
  },
  {
   "cell_type": "code",
   "execution_count": 15,
   "metadata": {},
   "outputs": [
    {
     "name": "stdout",
     "output_type": "stream",
     "text": [
      "Number of unique USERS and PRODUCT IDs in the raw ratings dataframe\n",
      "--------------------------------------------------------------------------------\n",
      "Number of unique USERS in raw ratings dataframe =  4201696\n",
      "Number of unique PRODUCTS in raw ratings dataframe =  476002\n"
     ]
    }
   ],
   "source": [
    "# Number of unique user id and product id in the data\n",
    "print('Number of unique USERS and PRODUCT IDs in the raw ratings dataframe'); print('--'*40)\n",
    "print('Number of unique USERS in raw ratings dataframe = ', ratings_df['UserID'].nunique())\n",
    "print('Number of unique PRODUCTS in raw ratings dataframe = ', ratings_df['ProductID'].nunique())"
   ]
  },
  {
   "cell_type": "code",
   "execution_count": 16,
   "metadata": {},
   "outputs": [
    {
     "name": "stdout",
     "output_type": "stream",
     "text": [
      "Distribution of Ratings per User is sparser\n",
      "Maximum number of rating per user being 520 and minimum being 1\n",
      "--------------------------------------------------------------------------------\n"
     ]
    },
    {
     "data": {
      "image/png": "[encoded data removed]",
      "text/plain": [
       "<Figure size 1080x518.4 with 1 Axes>"
      ]
     },
     "metadata": {
      "needs_background": "light"
     },
     "output_type": "display_data"
    }
   ],
   "source": [
    "print('Distribution of Ratings per User is sparser')\n",
    "print('Maximum number of rating per user being {maxm} and minimum being {minm}'.format(maxm = ratings_df['UserIDCounts'].max(), \n",
    "                                                                                       minm = ratings_df['UserIDCounts'].min()))\n",
    "print('--'*40)\n",
    "fig = plt.figure(figsize = (15, 7.2))\n",
    "g = sns.distplot(ratings_df['UserIDCounts'], bins = 50).set_title('Distribution of Ratings per User')\n",
    "\n",
    "del fig, g"
   ]
  },
  {
   "cell_type": "code",
   "execution_count": 17,
   "metadata": {},
   "outputs": [
    {
     "name": "stdout",
     "output_type": "stream",
     "text": [
      "Taking a subset of dataset to make it less sparse/denser\n",
      "Keeping users those who have given more than 49 number of ratings\n",
      "--------------------------------------------------------------------------------\n",
      "Number of rows after filtering: 125871\n"
     ]
    }
   ],
   "source": [
    "print('Taking a subset of dataset to make it less sparse/denser')\n",
    "print('Keeping users those who have given more than 49 number of ratings'); print('--'*40)\n",
    "\n",
    "ratings_df = ratings_df[ratings_df['UserIDCounts'] >= 50]\n",
    "print('Number of rows after filtering: {}'.format(ratings_df.shape[0]))"
   ]
  },
  {
   "cell_type": "code",
   "execution_count": 18,
   "metadata": {},
   "outputs": [
    {
     "data": {
      "image/png": "[encoded data removed]",
      "text/plain": [
       "<Figure size 1080x518.4 with 1 Axes>"
      ]
     },
     "metadata": {
      "needs_background": "light"
     },
     "output_type": "display_data"
    }
   ],
   "source": [
    "fig = plt.figure(figsize = (15, 7.2))\n",
    "g = sns.distplot(ratings_df['UserIDCounts'], bins = 50).set_title('Distribution of Ratings per User after filtering users with less than 50 ratings')\n",
    "\n",
    "del fig, g"
   ]
  },
  {
   "cell_type": "code",
   "execution_count": 19,
   "metadata": {},
   "outputs": [
    {
     "name": "stdout",
     "output_type": "stream",
     "text": [
      "Number of product ids after filtering based on ratings given by users: 48190\n"
     ]
    }
   ],
   "source": [
    "print('Number of product ids after filtering based on ratings given by users: {}'.format(ratings_df['ProductID'].nunique()))"
   ]
  },
  {
   "cell_type": "code",
   "execution_count": 20,
   "metadata": {},
   "outputs": [
    {
     "name": "stdout",
     "output_type": "stream",
     "text": [
      "Selecting only UserID, ProductID and 'Rating' column\n",
      "--------------------------------------------------------------------------------\n"
     ]
    }
   ],
   "source": [
    "print('Selecting only UserID, ProductID and \\'Rating\\' column'); print('--'*40)\n",
    "ratings = ratings_df[['UserID', 'ProductID', 'Rating']]"
   ]
  },
  {
   "cell_type": "code",
   "execution_count": 21,
   "metadata": {},
   "outputs": [
    {
     "name": "stdout",
     "output_type": "stream",
     "text": [
      "Number of unique USERS and PRODUCT IDs in the filtered ratings dataframe\n",
      "--------------------------------------------------------------------------------\n",
      "Number of unique USERS in filtered ratings dataframe =  1540\n",
      "Number of unique PRODUCTS in filtered ratings dataframe =  48190\n"
     ]
    }
   ],
   "source": [
    "# Number of unique user id and product id in the data\n",
    "print('Number of unique USERS and PRODUCT IDs in the filtered ratings dataframe'); print('--'*40)\n",
    "print('Number of unique USERS in filtered ratings dataframe = ', ratings['UserID'].nunique())\n",
    "print('Number of unique PRODUCTS in filtered ratings dataframe = ', ratings['ProductID'].nunique())"
   ]
  },
  {
   "cell_type": "code",
   "execution_count": 22,
   "metadata": {},
   "outputs": [
    {
     "name": "stdout",
     "output_type": "stream",
     "text": [
      "Top 10 users based on # of ratings given\n",
      "--------------------------------------------------------------------------------\n"
     ]
    },
    {
     "data": {
      "text/plain": [
       "UserID\n",
       "A5JLAU2ARJ0BO     520\n",
       "ADLVFFE4VBT8      501\n",
       "A3OXHLG6DIBRW8    498\n",
       "A6FIAB28IS79      431\n",
       "A680RUE1FDO8B     406\n",
       "A1ODOGXEYECQQ8    380\n",
       "A36K2N527TXXJN    314\n",
       "A2AY4YUOX2N1BQ    311\n",
       "AWPODHOB4GFWL     308\n",
       "A25C2M3QF9G7OQ    296\n",
       "dtype: int64"
      ]
     },
     "metadata": {},
     "output_type": "display_data"
    },
    {
     "name": "stdout",
     "output_type": "stream",
     "text": [
      "\n",
      "Bottom 10 users based on # of ratings given\n",
      "--------------------------------------------------------------------------------\n"
     ]
    },
    {
     "data": {
      "text/plain": [
       "UserID\n",
       "A2RS66Y79Q8X0W    50\n",
       "A2Y4H3PXB07WQI    50\n",
       "A3VZH0PWLQ9BB1    50\n",
       "A19N3S7CBSU6O7    50\n",
       "A1IU4UAV9QIJAI    50\n",
       "A319Y83RT0MRVR    50\n",
       "A27H61OHW44XA7    50\n",
       "A2JRDFIGWTX50J    50\n",
       "A2RGA7UGAN3UL7    50\n",
       "ACH055GTTIGC9     50\n",
       "dtype: int64"
      ]
     },
     "metadata": {},
     "output_type": "display_data"
    }
   ],
   "source": [
    "# Top and bottom 10 users based on # of ratings given\n",
    "print('Top 10 users based on # of ratings given'); print('--'*40)\n",
    "most_rated = ratings.groupby('UserID').size().sort_values(ascending = False)[:10]\n",
    "display(most_rated)\n",
    "\n",
    "print('\\nBottom 10 users based on # of ratings given'); print('--'*40)\n",
    "least_rated = ratings.groupby('UserID').size().sort_values(ascending = True)[:10]\n",
    "display(least_rated)\n",
    "\n",
    "del most_rated, least_rated"
   ]
  },
  {
   "cell_type": "markdown",
   "metadata": {},
   "source": [
    "<a id='recommendations'></a>\n",
    "### Recommenders\n",
    "We will explore following methods of making recommendations:\n",
    "* Popularity based recommendations\n",
    "* Collaborative filtering (User-based and Item-based recommendations)"
   ]
  },
  {
   "cell_type": "code",
   "execution_count": 23,
   "metadata": {},
   "outputs": [
    {
     "data": {
      "text/plain": [
       "(88109, 3)"
      ]
     },
     "metadata": {},
     "output_type": "display_data"
    },
    {
     "data": {
      "text/plain": [
       "(37762, 3)"
      ]
     },
     "metadata": {},
     "output_type": "display_data"
    }
   ],
   "source": [
    "train_data, test_data = train_test_split(ratings, test_size = 0.30, random_state = random_state)\n",
    "display(train_data.shape, test_data.shape)"
   ]
  },
  {
   "cell_type": "code",
   "execution_count": 24,
   "metadata": {},
   "outputs": [
    {
     "name": "stdout",
     "output_type": "stream",
     "text": [
      "Number of unique users in training dataframe 1540\n",
      "Number of unique users in test dataframe: 1540\n",
      "Number of products that aren't present in test dataframe: \n"
     ]
    }
   ],
   "source": [
    "print('Number of unique users in training dataframe {}'.format(train_data['UserID'].nunique()))\n",
    "print('Number of unique users in test dataframe: {}'.format(test_data['UserID'].nunique()))\n",
    "print('Number of products that aren\\'t present in test dataframe: '.format(len(list(set(list(train_data['ProductID'].unique())) - set(list(test_data['ProductID'].unique()))))))"
   ]
  },
  {
   "cell_type": "code",
   "execution_count": 25,
   "metadata": {},
   "outputs": [
    {
     "name": "stdout",
     "output_type": "stream",
     "text": [
      "Number of unique products in training dataframe 38184\n",
      "Number of unique products in test dataframe: 21323\n",
      "Number of products that aren't present in test dataframe: 26867\n"
     ]
    }
   ],
   "source": [
    "print('Number of unique products in training dataframe {}'.format(train_data['ProductID'].nunique()))\n",
    "print('Number of unique products in test dataframe: {}'.format(test_data['ProductID'].nunique()))\n",
    "print('Number of products that aren\\'t present in test dataframe: {}'.format(len(list(set(list(train_data['ProductID'].unique())) - set(list(test_data['ProductID'].unique()))))))"
   ]
  },
  {
   "cell_type": "markdown",
   "metadata": {},
   "source": [
    "<a id='popularity'></a>\n",
    "#### **Popularity based recommendations**\n",
    "* Create a class to make recommendation using popularity based method.\n",
    "* Get top 5 recommendations for couple of users, recommendations are based on the Rating means for the Product IDs. However will later explore other methods as well.\n",
    "* Comment on the findings."
   ]
  },
  {
   "cell_type": "code",
   "execution_count": 27,
   "metadata": {},
   "outputs": [],
   "source": [
    "#Class for Popularity based Recommender System\n",
    "class popularity_recommender():   \n",
    "    def __init__(self):\n",
    "      self.trainSet = None\n",
    "      self.userId = None\n",
    "      self.productId = None\n",
    "      self.popularityRecommendations = None\n",
    "      self.topN = None\n",
    "    def create(self, trainSet, userId, productId, topN):\n",
    "      self.trainSet = trainSet\n",
    "      self.userId = userId\n",
    "      self.productId = productId\n",
    "      self.topN = topN\n",
    "\n",
    "      byRating = self.trainSet.groupby('ProductID', sort = False, as_index = False)['Rating'].mean().sort_values(by = 'Rating', ascending = False)\n",
    "      byRating['RatingRank'] = byRating['Rating'].rank(ascending = False, method = 'first')\n",
    "\n",
    "      byUsers = self.trainSet.groupby('ProductID', sort = False, as_index = False)['Rating'].count().sort_values(by = 'Rating', ascending = False)\n",
    "      byUsers.columns = ['ProductID', 'RatingCount']\n",
    "      \n",
    "      byRatingUsers = pd.merge(byRating, byUsers, on = 'ProductID', how = 'left')\n",
    "      byRatingUsers = byRatingUsers.sort_values(by = 'RatingRank', ascending = False)\n",
    "\n",
    "      self.popularity_recommendations = byRating.head(self.topN)\n",
    "      return byRatingUsers\n",
    "\n",
    "    def recommend(self, user_id):            \n",
    "      user_recommendations = self.popularity_recommendations\n",
    "      \n",
    "      user_recommendations['UserID'] = user_id\n",
    "      \n",
    "      cols = user_recommendations.columns.tolist()\n",
    "      cols = cols[-1:] + cols[:-1]\n",
    "      user_recommendations = user_recommendations[cols]\n",
    "      try:\n",
    "        print('User has already rated products (from data in training set): {}'.format(self.trainSet.loc[(self.trainSet['UserID'] == user_id), 'ProductID'].nunique()))\n",
    "        print('Top 5 products from what\\'s already being rated: {}'.format(list(self.trainSet[(self.trainSet['UserID'] == user_id)].sort_values(by = 'Rating', ascending = False).head(5)['ProductID'])))\n",
    "      except:\n",
    "        print('There\\'s no data for the selected user in training set')\n",
    "      print('\\nTop 5 recommendations for the user based on popularity based method: {}'.format(list(user_recommendations['ProductID'])))\n",
    "      return list(user_recommendations['ProductID'])"
   ]
  },
  {
   "cell_type": "code",
   "execution_count": 28,
   "metadata": {},
   "outputs": [
    {
     "name": "stdout",
     "output_type": "stream",
     "text": [
      "Get list of unique user and product ids in testset\n",
      "--------------------------------------------------------------------------------\n"
     ]
    }
   ],
   "source": [
    "# Get list of unique user and product ids in testset\n",
    "print('Get list of unique user and product ids in testset'); print('--'*40)\n",
    "test_userids = sorted(list(test_data['UserID'].unique()))\n",
    "test_productids = sorted(list(test_data['ProductID'].unique()))"
   ]
  },
  {
   "cell_type": "code",
   "execution_count": 29,
   "metadata": {},
   "outputs": [
    {
     "name": "stdout",
     "output_type": "stream",
     "text": [
      "Popularity recommendation is based on the mean of Ratings received and not Rating counts, later we will explore other methods as well.\n",
      "Get top - K ( K = 5) recommendations.\n",
      "Since our goal is to recommend new products to each user based on his/her habits, we will recommend 5 new products.\n",
      "--------------------------------------------------------------------------------\n",
      "\n",
      "Make recommendation for the user id selected from the testset = \"A11D1KHM7DVOQK\"\n",
      "User has already rated products (from data in training set): 77\n",
      "Top 5 products from what's already being rated: ['B0009H9PZU', 'B0006B486K', 'B00009W3DS', 'B0009E5YNA', 'B00005V54U']\n",
      "\n",
      "Top 5 recommendations for the user based on popularity based method: ['B0000645V0', 'B0011YR8KO', 'B00JE0Q95M', 'B004T0B8O4', 'B000VQU3N2']\n",
      "\n",
      "\n",
      "Make recommendation for the user id selected from the testset = \"A149RNR5RH19YY\"\n",
      "--------------------------------------------------------------------------------\n",
      "User has already rated products (from data in training set): 97\n",
      "Top 5 products from what's already being rated: ['B00000JBAM', 'B000WR0CKE', 'B000BTL0OA', 'B0015AM30Y', 'B0000DIET2']\n",
      "\n",
      "Top 5 recommendations for the user based on popularity based method: ['B0000645V0', 'B0011YR8KO', 'B00JE0Q95M', 'B004T0B8O4', 'B000VQU3N2']\n"
     ]
    }
   ],
   "source": [
    "# Get top 5 recommendations\n",
    "print('Popularity recommendation is based on the mean of Ratings received and not Rating counts, later we will explore other methods as well.')\n",
    "print('Get top - K ( K = 5) recommendations.')\n",
    "print('Since our goal is to recommend new products to each user based on his/her habits, we will recommend 5 new products.'); print('--'*40)\n",
    "compare_dict = {}; result = {}\n",
    "popularity = popularity_recommender()\n",
    "byRatingUsers = popularity.create(train_data, 'UserID', 'ProductID', 5)\n",
    "\n",
    "print('\\nMake recommendation for the user id selected from the testset = \"A11D1KHM7DVOQK\"')\n",
    "user_id = \"A11D1KHM7DVOQK\"\n",
    "result[user_id] = popularity.recommend(user_id)\n",
    "\n",
    "print('\\n\\nMake recommendation for the user id selected from the testset = \"A149RNR5RH19YY\"'); print('--'*40)\n",
    "user_id = \"A149RNR5RH19YY\"\n",
    "result[user_id] = popularity.recommend(user_id)"
   ]
  },
  {
   "cell_type": "code",
   "execution_count": 30,
   "metadata": {},
   "outputs": [
    {
     "name": "stdout",
     "output_type": "stream",
     "text": [
      "Store the recommendations in a dictionary\n",
      "--------------------------------------------------------------------------------\n"
     ]
    }
   ],
   "source": [
    "print('Store the recommendations in a dictionary'); print('--'*40)\n",
    "compare_dict['PopularityRec'] = result"
   ]
  },
  {
   "cell_type": "code",
   "execution_count": 31,
   "metadata": {},
   "outputs": [
    {
     "name": "stdout",
     "output_type": "stream",
     "text": [
      "Evaluating Popularity based Recommender\n",
      "Creating a new dataframe with mean rating for each product in test dataframe and using our prediction dataframe i.e. byRatingUsers to calculate RMSE\n",
      "--------------------------------------------------------------------------------\n",
      "Shape of test mean dataframe: (21323, 3)\n",
      "Shape of predicted (recommender) dataframe: (38184, 4)\n",
      "--------------------------------------------------------------------------------\n",
      "RMSE OF THE POPULARITY BASED RECOMMENDER: 3.0894\n"
     ]
    }
   ],
   "source": [
    "print('Evaluating Popularity based Recommender')\n",
    "print('Creating a new dataframe with mean rating for each product in test dataframe and using our prediction dataframe i.e. byRatingUsers to calculate RMSE'); print('--'*40)\n",
    "test_means = test_data.groupby('ProductID', sort = False, as_index = False)['Rating'].mean().sort_values(by = 'Rating', ascending = False)\n",
    "test_means = test_means.merge(byRatingUsers, on = 'ProductID', how = 'left', suffixes=('_act', '_pred')).drop(['RatingRank', 'RatingCount'], axis = 1).fillna(0)\n",
    "print('Shape of test mean dataframe: {}'.format(test_means.shape))\n",
    "print('Shape of predicted (recommender) dataframe: {}'.format(byRatingUsers.shape))\n",
    "\n",
    "RMSE_pop = sqrt(mean_squared_error(test_means['Rating_act'], test_means['Rating_pred']))\n",
    "print('--' * 40)\n",
    "print('RMSE OF THE POPULARITY BASED RECOMMENDER: {}'.format(round(RMSE_pop, 4)))"
   ]
  },
  {
   "cell_type": "code",
   "execution_count": 32,
   "metadata": {},
   "outputs": [
    {
     "name": "stdout",
     "output_type": "stream",
     "text": [
      "Recommendations based on mean of Rating, which is the method used above\n",
      "--------------------------------------------------------------------------------\n"
     ]
    },
    {
     "data": {
      "text/plain": [
       "['B0000645V0', 'B0011YR8KO', 'B00JE0Q95M', 'B004T0B8O4', 'B000VQU3N2']"
      ]
     },
     "metadata": {},
     "output_type": "display_data"
    },
    {
     "name": "stdout",
     "output_type": "stream",
     "text": [
      "\n",
      "Recommendations based on count of Rating\n",
      "--------------------------------------------------------------------------------\n"
     ]
    },
    {
     "data": {
      "text/plain": [
       "['B0088CJT4U', 'B003ES5ZUU', 'B000N99BBC', 'B007WTAJTO', 'B00829TIEK']"
      ]
     },
     "metadata": {},
     "output_type": "display_data"
    },
    {
     "name": "stdout",
     "output_type": "stream",
     "text": [
      "\n",
      "Recommendations based on a mix of mean and count of Rating\n",
      "--------------------------------------------------------------------------------\n"
     ]
    },
    {
     "data": {
      "text/plain": [
       "['B00IVFDZBC', 'B002NEGTTW', 'B000F7QRTG', 'B001ENW61I', 'B000FQ2JLW']"
      ]
     },
     "metadata": {},
     "output_type": "display_data"
    }
   ],
   "source": [
    "print('Recommendations based on mean of Rating, which is the method used above'); print('--'*40)\n",
    "display(byRatingUsers.sort_values(by = 'RatingRank', ascending = True).head(5)['ProductID'].tolist())\n",
    "\n",
    "print('\\nRecommendations based on count of Rating'); print('--'*40)\n",
    "display(byRatingUsers.sort_values(by = 'RatingCount', ascending = False).head(5)['ProductID'].tolist())\n",
    "\n",
    "print('\\nRecommendations based on a mix of mean and count of Rating'); print('--'*40)\n",
    "display(byRatingUsers.sort_values(by = ['Rating', 'RatingCount'], ascending = False).head(5)['ProductID'].tolist())"
   ]
  },
  {
   "cell_type": "code",
   "execution_count": 33,
   "metadata": {},
   "outputs": [
    {
     "name": "stdout",
     "output_type": "stream",
     "text": [
      "Plot of average ratings versus number of ratings\n",
      "--------------------------------------------------------------------------------\n"
     ]
    },
    {
     "data": {
      "image/png": "[encoded data removed]",
      "text/plain": [
       "<Figure size 720x720 with 3 Axes>"
      ]
     },
     "metadata": {
      "needs_background": "light"
     },
     "output_type": "display_data"
    }
   ],
   "source": [
    "print('Plot of average ratings versus number of ratings'); print('--'*40)\n",
    "g = sns.jointplot(x = 'Rating', y = 'RatingCount', data = byRatingUsers, alpha = 0.4, height = 10)\n",
    "\n",
    "del g, byRatingUsers, popularity_recommender, user_id"
   ]
  },
  {
   "cell_type": "markdown",
   "metadata": {},
   "source": [
    "<a id='o4'></a>\n",
    "##### Observation 4 - Popularity Based Recommendation\n",
    "* For popularity recommendation system, we recommended products based on *mean of Ratings* given by users. We saw that the top 5 products which we recommended to users are those where only 1 user from the training set has rated.\n",
    "* Then we also explored other methods for popularity recommendations. Those were based on:\n",
    "  * *Count of Ratings* received for the product\n",
    "  * *Hybrid method* for popularity recommendation where in we used both mean and count of rating to decide on the product recommended\n",
    "* For all of the above cases (recommendations based on mean, count, and mean and count), popularity based method lacks personalization i.e. same recommendations for all users. However, using Popularity based recommendation system it would easier to recommend products to a new user w/o having knowledge about who the users are or what their preferences are and recommending them the products that are in-trend.\n",
    "* **RMSE of the popularity based recommendation method using mean of rating is 3.0894.**"
   ]
  },
  {
   "cell_type": "markdown",
   "metadata": {},
   "source": [
    "<a id='collaborative'></a>\n",
    "#### **Collaborative Filtering**\n",
    "Objective is to build a recommendation system to recommend products to customers based on their previous ratings for other products i.e. item-based collaborative filtering.\n",
    "\n",
    "**\"You tend to like that item because you've liked those items.\"**\n",
    "\n",
    "whereas as we know that in user-based it's \"You may like it because your friends liked it\".\n",
    "\n",
    "  * Model-based Collaborative Filtering: Singular Value Decomposition and evaluate k-NN based algos.\n",
    "  * Use the filtered ratings dataframe and scipy based SVD to evaluate Item-based collaborative filtering method for suggesting products based to users based on what he has liked in past.\n",
    "  * Also explore user based collaborative filtering.\n",
    "\n",
    "* Comment on the findings.\n"
   ]
  },
  {
   "cell_type": "markdown",
   "metadata": {},
   "source": [
    "<a id='SVD'></a>\n",
    "##### **Model based Collaborative Filtering: SVD**"
   ]
  },
  {
   "cell_type": "code",
   "execution_count": 35,
   "metadata": {},
   "outputs": [
    {
     "name": "stdout",
     "output_type": "stream",
     "text": [
      "Matrix with one row per 'Product' and one column per 'User' for Item-based collaborative filtering\n",
      "--------------------------------------------------------------------------------\n"
     ]
    },
    {
     "data": {
      "text/html": [
       "<div>\n",
       "<style scoped>\n",
       "    .dataframe tbody tr th:only-of-type {\n",
       "        vertical-align: middle;\n",
       "    }\n",
       "\n",
       "    .dataframe tbody tr th {\n",
       "        vertical-align: top;\n",
       "    }\n",
       "\n",
       "    .dataframe thead th {\n",
       "        text-align: right;\n",
       "    }\n",
       "</style>\n",
       "<table border=\"1\" class=\"dataframe\">\n",
       "  <thead>\n",
       "    <tr style=\"text-align: right;\">\n",
       "      <th>ProductID</th>\n",
       "      <th>0594451647</th>\n",
       "      <th>0594481813</th>\n",
       "      <th>0970407998</th>\n",
       "      <th>0972683275</th>\n",
       "      <th>1400501466</th>\n",
       "      <th>1400501520</th>\n",
       "      <th>1400501776</th>\n",
       "      <th>1400532620</th>\n",
       "      <th>1400532655</th>\n",
       "      <th>140053271X</th>\n",
       "      <th>...</th>\n",
       "      <th>B00L5YZCCG</th>\n",
       "      <th>B00L8I6SFY</th>\n",
       "      <th>B00L8QCVL6</th>\n",
       "      <th>B00LA6T0LS</th>\n",
       "      <th>B00LBZ1Z7K</th>\n",
       "      <th>B00LED02VY</th>\n",
       "      <th>B00LGN7Y3G</th>\n",
       "      <th>B00LGQ6HL8</th>\n",
       "      <th>B00LI4ZZO8</th>\n",
       "      <th>B00LKG1MC8</th>\n",
       "    </tr>\n",
       "    <tr>\n",
       "      <th>UserID</th>\n",
       "      <th></th>\n",
       "      <th></th>\n",
       "      <th></th>\n",
       "      <th></th>\n",
       "      <th></th>\n",
       "      <th></th>\n",
       "      <th></th>\n",
       "      <th></th>\n",
       "      <th></th>\n",
       "      <th></th>\n",
       "      <th></th>\n",
       "      <th></th>\n",
       "      <th></th>\n",
       "      <th></th>\n",
       "      <th></th>\n",
       "      <th></th>\n",
       "      <th></th>\n",
       "      <th></th>\n",
       "      <th></th>\n",
       "      <th></th>\n",
       "      <th></th>\n",
       "    </tr>\n",
       "  </thead>\n",
       "  <tbody>\n",
       "    <tr>\n",
       "      <th>A100UD67AHFODS</th>\n",
       "      <td>0.00</td>\n",
       "      <td>0.00</td>\n",
       "      <td>0.00</td>\n",
       "      <td>0.00</td>\n",
       "      <td>0.00</td>\n",
       "      <td>0.00</td>\n",
       "      <td>0.00</td>\n",
       "      <td>0.00</td>\n",
       "      <td>0.00</td>\n",
       "      <td>0.00</td>\n",
       "      <td>...</td>\n",
       "      <td>0.00</td>\n",
       "      <td>0.00</td>\n",
       "      <td>0.00</td>\n",
       "      <td>0.00</td>\n",
       "      <td>0.00</td>\n",
       "      <td>0.00</td>\n",
       "      <td>0.00</td>\n",
       "      <td>0.00</td>\n",
       "      <td>0.00</td>\n",
       "      <td>0.00</td>\n",
       "    </tr>\n",
       "    <tr>\n",
       "      <th>A100WO06OQR8BQ</th>\n",
       "      <td>0.00</td>\n",
       "      <td>0.00</td>\n",
       "      <td>0.00</td>\n",
       "      <td>0.00</td>\n",
       "      <td>0.00</td>\n",
       "      <td>0.00</td>\n",
       "      <td>0.00</td>\n",
       "      <td>0.00</td>\n",
       "      <td>0.00</td>\n",
       "      <td>0.00</td>\n",
       "      <td>...</td>\n",
       "      <td>0.00</td>\n",
       "      <td>0.00</td>\n",
       "      <td>0.00</td>\n",
       "      <td>0.00</td>\n",
       "      <td>0.00</td>\n",
       "      <td>0.00</td>\n",
       "      <td>0.00</td>\n",
       "      <td>0.00</td>\n",
       "      <td>0.00</td>\n",
       "      <td>0.00</td>\n",
       "    </tr>\n",
       "    <tr>\n",
       "      <th>A105S56ODHGJEK</th>\n",
       "      <td>0.00</td>\n",
       "      <td>0.00</td>\n",
       "      <td>0.00</td>\n",
       "      <td>0.00</td>\n",
       "      <td>0.00</td>\n",
       "      <td>0.00</td>\n",
       "      <td>0.00</td>\n",
       "      <td>0.00</td>\n",
       "      <td>0.00</td>\n",
       "      <td>0.00</td>\n",
       "      <td>...</td>\n",
       "      <td>0.00</td>\n",
       "      <td>0.00</td>\n",
       "      <td>0.00</td>\n",
       "      <td>0.00</td>\n",
       "      <td>0.00</td>\n",
       "      <td>0.00</td>\n",
       "      <td>0.00</td>\n",
       "      <td>0.00</td>\n",
       "      <td>0.00</td>\n",
       "      <td>0.00</td>\n",
       "    </tr>\n",
       "    <tr>\n",
       "      <th>A105TOJ6LTVMBG</th>\n",
       "      <td>0.00</td>\n",
       "      <td>0.00</td>\n",
       "      <td>0.00</td>\n",
       "      <td>0.00</td>\n",
       "      <td>0.00</td>\n",
       "      <td>0.00</td>\n",
       "      <td>0.00</td>\n",
       "      <td>0.00</td>\n",
       "      <td>0.00</td>\n",
       "      <td>0.00</td>\n",
       "      <td>...</td>\n",
       "      <td>0.00</td>\n",
       "      <td>0.00</td>\n",
       "      <td>0.00</td>\n",
       "      <td>0.00</td>\n",
       "      <td>0.00</td>\n",
       "      <td>0.00</td>\n",
       "      <td>0.00</td>\n",
       "      <td>0.00</td>\n",
       "      <td>0.00</td>\n",
       "      <td>0.00</td>\n",
       "    </tr>\n",
       "    <tr>\n",
       "      <th>A10AFVU66A79Y1</th>\n",
       "      <td>0.00</td>\n",
       "      <td>0.00</td>\n",
       "      <td>0.00</td>\n",
       "      <td>0.00</td>\n",
       "      <td>0.00</td>\n",
       "      <td>0.00</td>\n",
       "      <td>0.00</td>\n",
       "      <td>0.00</td>\n",
       "      <td>0.00</td>\n",
       "      <td>0.00</td>\n",
       "      <td>...</td>\n",
       "      <td>0.00</td>\n",
       "      <td>0.00</td>\n",
       "      <td>0.00</td>\n",
       "      <td>0.00</td>\n",
       "      <td>0.00</td>\n",
       "      <td>0.00</td>\n",
       "      <td>0.00</td>\n",
       "      <td>0.00</td>\n",
       "      <td>0.00</td>\n",
       "      <td>0.00</td>\n",
       "    </tr>\n",
       "  </tbody>\n",
       "</table>\n",
       "<p>5 rows × 48190 columns</p>\n",
       "</div>"
      ],
      "text/plain": [
       "ProductID       0594451647  0594481813  0970407998  0972683275  1400501466  \\\n",
       "UserID                                                                       \n",
       "A100UD67AHFODS        0.00        0.00        0.00        0.00        0.00   \n",
       "A100WO06OQR8BQ        0.00        0.00        0.00        0.00        0.00   \n",
       "A105S56ODHGJEK        0.00        0.00        0.00        0.00        0.00   \n",
       "A105TOJ6LTVMBG        0.00        0.00        0.00        0.00        0.00   \n",
       "A10AFVU66A79Y1        0.00        0.00        0.00        0.00        0.00   \n",
       "\n",
       "ProductID       1400501520  1400501776  1400532620  1400532655  140053271X  \\\n",
       "UserID                                                                       \n",
       "A100UD67AHFODS        0.00        0.00        0.00        0.00        0.00   \n",
       "A100WO06OQR8BQ        0.00        0.00        0.00        0.00        0.00   \n",
       "A105S56ODHGJEK        0.00        0.00        0.00        0.00        0.00   \n",
       "A105TOJ6LTVMBG        0.00        0.00        0.00        0.00        0.00   \n",
       "A10AFVU66A79Y1        0.00        0.00        0.00        0.00        0.00   \n",
       "\n",
       "ProductID       ...  B00L5YZCCG  B00L8I6SFY  B00L8QCVL6  B00LA6T0LS  \\\n",
       "UserID          ...                                                   \n",
       "A100UD67AHFODS  ...        0.00        0.00        0.00        0.00   \n",
       "A100WO06OQR8BQ  ...        0.00        0.00        0.00        0.00   \n",
       "A105S56ODHGJEK  ...        0.00        0.00        0.00        0.00   \n",
       "A105TOJ6LTVMBG  ...        0.00        0.00        0.00        0.00   \n",
       "A10AFVU66A79Y1  ...        0.00        0.00        0.00        0.00   \n",
       "\n",
       "ProductID       B00LBZ1Z7K  B00LED02VY  B00LGN7Y3G  B00LGQ6HL8  B00LI4ZZO8  \\\n",
       "UserID                                                                       \n",
       "A100UD67AHFODS        0.00        0.00        0.00        0.00        0.00   \n",
       "A100WO06OQR8BQ        0.00        0.00        0.00        0.00        0.00   \n",
       "A105S56ODHGJEK        0.00        0.00        0.00        0.00        0.00   \n",
       "A105TOJ6LTVMBG        0.00        0.00        0.00        0.00        0.00   \n",
       "A10AFVU66A79Y1        0.00        0.00        0.00        0.00        0.00   \n",
       "\n",
       "ProductID       B00LKG1MC8  \n",
       "UserID                      \n",
       "A100UD67AHFODS        0.00  \n",
       "A100WO06OQR8BQ        0.00  \n",
       "A105S56ODHGJEK        0.00  \n",
       "A105TOJ6LTVMBG        0.00  \n",
       "A10AFVU66A79Y1        0.00  \n",
       "\n",
       "[5 rows x 48190 columns]"
      ]
     },
     "execution_count": 35,
     "metadata": {},
     "output_type": "execute_result"
    }
   ],
   "source": [
    "# Item-based Collaborative Filtering\n",
    "print('Matrix with one row per \\'Product\\' and one column per \\'User\\' for Item-based collaborative filtering'); print('--'*40)\n",
    "ratings_item = ratings.pivot(index = 'UserID', columns = 'ProductID', values = 'Rating').fillna(0)\n",
    "ratings_item.head()"
   ]
  },
  {
   "cell_type": "code",
   "execution_count": 36,
   "metadata": {},
   "outputs": [
    {
     "name": "stdout",
     "output_type": "stream",
     "text": [
      "Calculate the density of the ratings matrix\n",
      "--------------------------------------------------------------------------------\n",
      "Shape of ratings matrix:  (1540, 48190)\n",
      "given_num_of_ratings =  125871\n",
      "possible_num_of_ratings =  74212600\n",
      "density: 0.17%\n"
     ]
    }
   ],
   "source": [
    "# Calculate the density of the rating matrix\n",
    "print('Calculate the density of the ratings matrix'); print('--'*40)\n",
    "\n",
    "print('Shape of ratings matrix: ', ratings_item.shape)\n",
    "\n",
    "given_num_of_ratings = np.count_nonzero(ratings_item)\n",
    "print('given_num_of_ratings = ', given_num_of_ratings)\n",
    "\n",
    "possible_num_of_ratings = ratings_item.shape[0] * ratings_item.shape[1]\n",
    "print('possible_num_of_ratings = ', possible_num_of_ratings)\n",
    "\n",
    "density = (given_num_of_ratings/possible_num_of_ratings)\n",
    "density *= 100\n",
    "print ('density: {:4.2f}%'.format(density))"
   ]
  },
  {
   "cell_type": "code",
   "execution_count": 37,
   "metadata": {},
   "outputs": [
    {
     "data": {
      "text/html": [
       "<div>\n",
       "<style scoped>\n",
       "    .dataframe tbody tr th:only-of-type {\n",
       "        vertical-align: middle;\n",
       "    }\n",
       "\n",
       "    .dataframe tbody tr th {\n",
       "        vertical-align: top;\n",
       "    }\n",
       "\n",
       "    .dataframe thead th {\n",
       "        text-align: right;\n",
       "    }\n",
       "</style>\n",
       "<table border=\"1\" class=\"dataframe\">\n",
       "  <thead>\n",
       "    <tr style=\"text-align: right;\">\n",
       "      <th>ProductID</th>\n",
       "      <th>0594451647</th>\n",
       "      <th>0594481813</th>\n",
       "      <th>0970407998</th>\n",
       "      <th>0972683275</th>\n",
       "      <th>1400501466</th>\n",
       "      <th>1400501520</th>\n",
       "      <th>1400501776</th>\n",
       "      <th>1400532620</th>\n",
       "      <th>1400532655</th>\n",
       "      <th>140053271X</th>\n",
       "      <th>...</th>\n",
       "      <th>B00L5YZCCG</th>\n",
       "      <th>B00L8I6SFY</th>\n",
       "      <th>B00L8QCVL6</th>\n",
       "      <th>B00LA6T0LS</th>\n",
       "      <th>B00LBZ1Z7K</th>\n",
       "      <th>B00LED02VY</th>\n",
       "      <th>B00LGN7Y3G</th>\n",
       "      <th>B00LGQ6HL8</th>\n",
       "      <th>B00LI4ZZO8</th>\n",
       "      <th>B00LKG1MC8</th>\n",
       "    </tr>\n",
       "    <tr>\n",
       "      <th>UserID</th>\n",
       "      <th></th>\n",
       "      <th></th>\n",
       "      <th></th>\n",
       "      <th></th>\n",
       "      <th></th>\n",
       "      <th></th>\n",
       "      <th></th>\n",
       "      <th></th>\n",
       "      <th></th>\n",
       "      <th></th>\n",
       "      <th></th>\n",
       "      <th></th>\n",
       "      <th></th>\n",
       "      <th></th>\n",
       "      <th></th>\n",
       "      <th></th>\n",
       "      <th></th>\n",
       "      <th></th>\n",
       "      <th></th>\n",
       "      <th></th>\n",
       "      <th></th>\n",
       "    </tr>\n",
       "  </thead>\n",
       "  <tbody>\n",
       "    <tr>\n",
       "      <th>A100UD67AHFODS</th>\n",
       "      <td>0.00</td>\n",
       "      <td>0.00</td>\n",
       "      <td>0.00</td>\n",
       "      <td>0.01</td>\n",
       "      <td>0.00</td>\n",
       "      <td>0.00</td>\n",
       "      <td>0.01</td>\n",
       "      <td>0.00</td>\n",
       "      <td>0.01</td>\n",
       "      <td>0.00</td>\n",
       "      <td>...</td>\n",
       "      <td>0.00</td>\n",
       "      <td>0.04</td>\n",
       "      <td>0.00</td>\n",
       "      <td>0.06</td>\n",
       "      <td>-0.00</td>\n",
       "      <td>0.01</td>\n",
       "      <td>0.00</td>\n",
       "      <td>0.13</td>\n",
       "      <td>0.06</td>\n",
       "      <td>0.02</td>\n",
       "    </tr>\n",
       "    <tr>\n",
       "      <th>A100WO06OQR8BQ</th>\n",
       "      <td>0.00</td>\n",
       "      <td>0.00</td>\n",
       "      <td>0.01</td>\n",
       "      <td>0.02</td>\n",
       "      <td>0.01</td>\n",
       "      <td>0.00</td>\n",
       "      <td>0.01</td>\n",
       "      <td>0.00</td>\n",
       "      <td>-0.00</td>\n",
       "      <td>0.00</td>\n",
       "      <td>...</td>\n",
       "      <td>0.00</td>\n",
       "      <td>0.03</td>\n",
       "      <td>0.00</td>\n",
       "      <td>0.00</td>\n",
       "      <td>-0.00</td>\n",
       "      <td>-0.00</td>\n",
       "      <td>0.00</td>\n",
       "      <td>-0.04</td>\n",
       "      <td>-0.01</td>\n",
       "      <td>0.00</td>\n",
       "    </tr>\n",
       "    <tr>\n",
       "      <th>A105S56ODHGJEK</th>\n",
       "      <td>-0.00</td>\n",
       "      <td>-0.00</td>\n",
       "      <td>0.00</td>\n",
       "      <td>0.02</td>\n",
       "      <td>0.01</td>\n",
       "      <td>-0.00</td>\n",
       "      <td>0.01</td>\n",
       "      <td>0.00</td>\n",
       "      <td>-0.01</td>\n",
       "      <td>-0.00</td>\n",
       "      <td>...</td>\n",
       "      <td>-0.00</td>\n",
       "      <td>0.01</td>\n",
       "      <td>-0.00</td>\n",
       "      <td>-0.02</td>\n",
       "      <td>0.02</td>\n",
       "      <td>-0.00</td>\n",
       "      <td>-0.00</td>\n",
       "      <td>-0.00</td>\n",
       "      <td>-0.01</td>\n",
       "      <td>-0.00</td>\n",
       "    </tr>\n",
       "    <tr>\n",
       "      <th>A105TOJ6LTVMBG</th>\n",
       "      <td>0.00</td>\n",
       "      <td>0.00</td>\n",
       "      <td>0.00</td>\n",
       "      <td>0.01</td>\n",
       "      <td>0.00</td>\n",
       "      <td>0.00</td>\n",
       "      <td>0.00</td>\n",
       "      <td>0.00</td>\n",
       "      <td>0.01</td>\n",
       "      <td>0.00</td>\n",
       "      <td>...</td>\n",
       "      <td>0.00</td>\n",
       "      <td>-0.00</td>\n",
       "      <td>0.00</td>\n",
       "      <td>-0.00</td>\n",
       "      <td>-0.00</td>\n",
       "      <td>0.00</td>\n",
       "      <td>0.00</td>\n",
       "      <td>-0.02</td>\n",
       "      <td>-0.01</td>\n",
       "      <td>0.00</td>\n",
       "    </tr>\n",
       "    <tr>\n",
       "      <th>A10AFVU66A79Y1</th>\n",
       "      <td>0.00</td>\n",
       "      <td>0.00</td>\n",
       "      <td>0.00</td>\n",
       "      <td>0.01</td>\n",
       "      <td>0.00</td>\n",
       "      <td>0.00</td>\n",
       "      <td>0.01</td>\n",
       "      <td>0.00</td>\n",
       "      <td>-0.00</td>\n",
       "      <td>0.00</td>\n",
       "      <td>...</td>\n",
       "      <td>0.00</td>\n",
       "      <td>-0.00</td>\n",
       "      <td>-0.00</td>\n",
       "      <td>-0.03</td>\n",
       "      <td>0.00</td>\n",
       "      <td>-0.00</td>\n",
       "      <td>0.00</td>\n",
       "      <td>-0.05</td>\n",
       "      <td>-0.02</td>\n",
       "      <td>-0.00</td>\n",
       "    </tr>\n",
       "  </tbody>\n",
       "</table>\n",
       "<p>5 rows × 48190 columns</p>\n",
       "</div>"
      ],
      "text/plain": [
       "ProductID       0594451647  0594481813  0970407998  0972683275  1400501466  \\\n",
       "UserID                                                                       \n",
       "A100UD67AHFODS        0.00        0.00        0.00        0.01        0.00   \n",
       "A100WO06OQR8BQ        0.00        0.00        0.01        0.02        0.01   \n",
       "A105S56ODHGJEK       -0.00       -0.00        0.00        0.02        0.01   \n",
       "A105TOJ6LTVMBG        0.00        0.00        0.00        0.01        0.00   \n",
       "A10AFVU66A79Y1        0.00        0.00        0.00        0.01        0.00   \n",
       "\n",
       "ProductID       1400501520  1400501776  1400532620  1400532655  140053271X  \\\n",
       "UserID                                                                       \n",
       "A100UD67AHFODS        0.00        0.01        0.00        0.01        0.00   \n",
       "A100WO06OQR8BQ        0.00        0.01        0.00       -0.00        0.00   \n",
       "A105S56ODHGJEK       -0.00        0.01        0.00       -0.01       -0.00   \n",
       "A105TOJ6LTVMBG        0.00        0.00        0.00        0.01        0.00   \n",
       "A10AFVU66A79Y1        0.00        0.01        0.00       -0.00        0.00   \n",
       "\n",
       "ProductID       ...  B00L5YZCCG  B00L8I6SFY  B00L8QCVL6  B00LA6T0LS  \\\n",
       "UserID          ...                                                   \n",
       "A100UD67AHFODS  ...        0.00        0.04        0.00        0.06   \n",
       "A100WO06OQR8BQ  ...        0.00        0.03        0.00        0.00   \n",
       "A105S56ODHGJEK  ...       -0.00        0.01       -0.00       -0.02   \n",
       "A105TOJ6LTVMBG  ...        0.00       -0.00        0.00       -0.00   \n",
       "A10AFVU66A79Y1  ...        0.00       -0.00       -0.00       -0.03   \n",
       "\n",
       "ProductID       B00LBZ1Z7K  B00LED02VY  B00LGN7Y3G  B00LGQ6HL8  B00LI4ZZO8  \\\n",
       "UserID                                                                       \n",
       "A100UD67AHFODS       -0.00        0.01        0.00        0.13        0.06   \n",
       "A100WO06OQR8BQ       -0.00       -0.00        0.00       -0.04       -0.01   \n",
       "A105S56ODHGJEK        0.02       -0.00       -0.00       -0.00       -0.01   \n",
       "A105TOJ6LTVMBG       -0.00        0.00        0.00       -0.02       -0.01   \n",
       "A10AFVU66A79Y1        0.00       -0.00        0.00       -0.05       -0.02   \n",
       "\n",
       "ProductID       B00LKG1MC8  \n",
       "UserID                      \n",
       "A100UD67AHFODS        0.02  \n",
       "A100WO06OQR8BQ        0.00  \n",
       "A105S56ODHGJEK       -0.00  \n",
       "A105TOJ6LTVMBG        0.00  \n",
       "A10AFVU66A79Y1       -0.00  \n",
       "\n",
       "[5 rows x 48190 columns]"
      ]
     },
     "execution_count": 37,
     "metadata": {},
     "output_type": "execute_result"
    }
   ],
   "source": [
    "# Singular Value Decomposition\n",
    "U, sigma, Vt = svds(ratings_item, k = 10)\n",
    "sigma = np.diag(sigma)\n",
    "\n",
    "all_user_predicted_ratings = np.dot(np.dot(U, sigma), Vt)\n",
    "preds_df = pd.DataFrame(all_user_predicted_ratings, columns = ratings_item.columns, index = ratings_item.index) #predicted ratings\n",
    "preds_df.head()"
   ]
  },
  {
   "cell_type": "code",
   "execution_count": 39,
   "metadata": {},
   "outputs": [
    {
     "name": "stdout",
     "output_type": "stream",
     "text": [
      "Creating a function to recommend products with highest predicted ratings\n",
      "--------------------------------------------------------------------------------\n"
     ]
    }
   ],
   "source": [
    "# Recommend products with highest predicted ratings\n",
    "print('Creating a function to recommend products with highest predicted ratings'); print('--'*40)\n",
    "def recommend_items(user_id, ratings_item, preds_df, num_recommendations = 5):\n",
    "    try:\n",
    "        print('User has already rated products (from data in training set): {}'.format(train_data.loc[(train_data['UserID'] == user_id), 'ProductID'].nunique()))\n",
    "        print('Top 5 products from what\\'s already being rated: {}'.format(list(train_data[(train_data['UserID'] == user_id)].sort_values(by = 'Rating', ascending = False).head(5)['ProductID'])))\n",
    "    except:\n",
    "      print('There\\'s no data for the selected user in training set')\n",
    "    sorted_user_ratings = ratings_item.loc[user_id].sort_values(ascending = False)\n",
    "    \n",
    "    sorted_user_predictions = preds_df.loc[user_id].sort_values(ascending = False)\n",
    "    temp = pd.concat([sorted_user_ratings, sorted_user_predictions], axis = 1)\n",
    "    temp.index.name = 'Recommended Items'\n",
    "    temp.columns = ['user_ratings', 'user_predictions']\n",
    "    \n",
    "    temp = temp.loc[temp.user_ratings == 0]\n",
    "    temp = temp.sort_values('user_predictions', ascending = False)\n",
    "    print('\\nTop 5 recommendations for the user based on item-based collaborative filtering method')\n",
    "    display(temp.head(num_recommendations))\n",
    "    return temp.head(num_recommendations).index.tolist()"
   ]
  },
  {
   "cell_type": "code",
   "execution_count": 40,
   "metadata": {},
   "outputs": [
    {
     "name": "stdout",
     "output_type": "stream",
     "text": [
      "Get top - K ( K = 5) recommendations.\n",
      "Since our goal is to recommend new products to each user based on his/her habits, we will recommend 5 new products.\n",
      "--------------------------------------------------------------------------------\n",
      "\n",
      "Make recommendation for the user id selected from the testset = \"A11D1KHM7DVOQK\"\n",
      "User has already rated products (from data in training set): 77\n",
      "Top 5 products from what's already being rated: ['B0009H9PZU', 'B0006B486K', 'B00009W3DS', 'B0009E5YNA', 'B00005V54U']\n",
      "\n",
      "Top 5 recommendations for the user based on item-based collaborative filtering method\n"
     ]
    },
    {
     "data": {
      "text/html": [
       "<div>\n",
       "<style scoped>\n",
       "    .dataframe tbody tr th:only-of-type {\n",
       "        vertical-align: middle;\n",
       "    }\n",
       "\n",
       "    .dataframe tbody tr th {\n",
       "        vertical-align: top;\n",
       "    }\n",
       "\n",
       "    .dataframe thead th {\n",
       "        text-align: right;\n",
       "    }\n",
       "</style>\n",
       "<table border=\"1\" class=\"dataframe\">\n",
       "  <thead>\n",
       "    <tr style=\"text-align: right;\">\n",
       "      <th></th>\n",
       "      <th>user_ratings</th>\n",
       "      <th>user_predictions</th>\n",
       "    </tr>\n",
       "    <tr>\n",
       "      <th>Recommended Items</th>\n",
       "      <th></th>\n",
       "      <th></th>\n",
       "    </tr>\n",
       "  </thead>\n",
       "  <tbody>\n",
       "    <tr>\n",
       "      <th>B007WTAJTO</th>\n",
       "      <td>0.00</td>\n",
       "      <td>0.07</td>\n",
       "    </tr>\n",
       "    <tr>\n",
       "      <th>B005CT56F8</th>\n",
       "      <td>0.00</td>\n",
       "      <td>0.06</td>\n",
       "    </tr>\n",
       "    <tr>\n",
       "      <th>B00829THK0</th>\n",
       "      <td>0.00</td>\n",
       "      <td>0.06</td>\n",
       "    </tr>\n",
       "    <tr>\n",
       "      <th>B003ZSHNGS</th>\n",
       "      <td>0.00</td>\n",
       "      <td>0.06</td>\n",
       "    </tr>\n",
       "    <tr>\n",
       "      <th>B00825BZUY</th>\n",
       "      <td>0.00</td>\n",
       "      <td>0.06</td>\n",
       "    </tr>\n",
       "  </tbody>\n",
       "</table>\n",
       "</div>"
      ],
      "text/plain": [
       "                   user_ratings  user_predictions\n",
       "Recommended Items                                \n",
       "B007WTAJTO                 0.00              0.07\n",
       "B005CT56F8                 0.00              0.06\n",
       "B00829THK0                 0.00              0.06\n",
       "B003ZSHNGS                 0.00              0.06\n",
       "B00825BZUY                 0.00              0.06"
      ]
     },
     "metadata": {},
     "output_type": "display_data"
    },
    {
     "name": "stdout",
     "output_type": "stream",
     "text": [
      "\n",
      "\n",
      "Make recommendation for the user id selected from the testset = \"A149RNR5RH19YY\"\n",
      "User has already rated products (from data in training set): 97\n",
      "Top 5 products from what's already being rated: ['B00000JBAM', 'B000WR0CKE', 'B000BTL0OA', 'B0015AM30Y', 'B0000DIET2']\n",
      "\n",
      "Top 5 recommendations for the user based on item-based collaborative filtering method\n"
     ]
    },
    {
     "data": {
      "text/html": [
       "<div>\n",
       "<style scoped>\n",
       "    .dataframe tbody tr th:only-of-type {\n",
       "        vertical-align: middle;\n",
       "    }\n",
       "\n",
       "    .dataframe tbody tr th {\n",
       "        vertical-align: top;\n",
       "    }\n",
       "\n",
       "    .dataframe thead th {\n",
       "        text-align: right;\n",
       "    }\n",
       "</style>\n",
       "<table border=\"1\" class=\"dataframe\">\n",
       "  <thead>\n",
       "    <tr style=\"text-align: right;\">\n",
       "      <th></th>\n",
       "      <th>user_ratings</th>\n",
       "      <th>user_predictions</th>\n",
       "    </tr>\n",
       "    <tr>\n",
       "      <th>Recommended Items</th>\n",
       "      <th></th>\n",
       "      <th></th>\n",
       "    </tr>\n",
       "  </thead>\n",
       "  <tbody>\n",
       "    <tr>\n",
       "      <th>B00829THK0</th>\n",
       "      <td>0.00</td>\n",
       "      <td>0.33</td>\n",
       "    </tr>\n",
       "    <tr>\n",
       "      <th>B007WTAJTO</th>\n",
       "      <td>0.00</td>\n",
       "      <td>0.32</td>\n",
       "    </tr>\n",
       "    <tr>\n",
       "      <th>B00829TIEK</th>\n",
       "      <td>0.00</td>\n",
       "      <td>0.28</td>\n",
       "    </tr>\n",
       "    <tr>\n",
       "      <th>B002R5AM7C</th>\n",
       "      <td>0.00</td>\n",
       "      <td>0.27</td>\n",
       "    </tr>\n",
       "    <tr>\n",
       "      <th>B003ES5ZUU</th>\n",
       "      <td>0.00</td>\n",
       "      <td>0.27</td>\n",
       "    </tr>\n",
       "  </tbody>\n",
       "</table>\n",
       "</div>"
      ],
      "text/plain": [
       "                   user_ratings  user_predictions\n",
       "Recommended Items                                \n",
       "B00829THK0                 0.00              0.33\n",
       "B007WTAJTO                 0.00              0.32\n",
       "B00829TIEK                 0.00              0.28\n",
       "B002R5AM7C                 0.00              0.27\n",
       "B003ES5ZUU                 0.00              0.27"
      ]
     },
     "metadata": {},
     "output_type": "display_data"
    }
   ],
   "source": [
    "print('Get top - K ( K = 5) recommendations.')\n",
    "print('Since our goal is to recommend new products to each user based on his/her habits, we will recommend 5 new products.'); print('--'*40)\n",
    "result = {}\n",
    "\n",
    "user_id = \"A11D1KHM7DVOQK\"\n",
    "print(f'\\nMake recommendation for the user id selected from the testset = \"{user_id}\"')\n",
    "result[user_id] = recommend_items(user_id, ratings_item, preds_df)\n",
    "\n",
    "user_id = \"A149RNR5RH19YY\"\n",
    "print(f'\\n\\nMake recommendation for the user id selected from the testset = \"{user_id}\"')\n",
    "result[user_id] = recommend_items(user_id, ratings_item, preds_df)"
   ]
  },
  {
   "cell_type": "code",
   "execution_count": 41,
   "metadata": {},
   "outputs": [],
   "source": [
    "compare_dict['SVD Item-based Collaborative Filtering'] = result"
   ]
  },
  {
   "cell_type": "code",
   "execution_count": 42,
   "metadata": {},
   "outputs": [
    {
     "name": "stdout",
     "output_type": "stream",
     "text": [
      "Evaluating SVD for Item-based Collaborative Filtering\n",
      "------------------------------------------------------------------------------------------------------------------------\n",
      "RMSE OF ITEM BASED COLLABORATIVE FILTERING USING MATRIX FACTORIZATION METHOD (SVD): 0.0033\n"
     ]
    }
   ],
   "source": [
    "print('Evaluating SVD for Item-based Collaborative Filtering'); print('--'*60)\n",
    "rmse_df = pd.concat([ratings_item.mean(), preds_df.mean()], axis = 1)\n",
    "rmse_df.columns = ['Avg_actual_ratings', 'Avg_predicted_ratings']\n",
    "RMSE = round((((rmse_df['Avg_actual_ratings'] - rmse_df['Avg_predicted_ratings']) ** 2).mean() ** 0.5), 4)\n",
    "print('RMSE OF ITEM BASED COLLABORATIVE FILTERING USING MATRIX FACTORIZATION METHOD (SVD): {}'.format(RMSE))"
   ]
  },
  {
   "cell_type": "markdown",
   "metadata": {},
   "source": [
    "<a id='o5'></a>\n",
    "###### Observation 5 - Item Based Collaborative Filtering -- SVD\n",
    "* Above we evaluated SVD for item-based collaborative filtering and it can be seen that the RMSE of SVD model 0.0033."
   ]
  },
  {
   "cell_type": "code",
   "execution_count": 44,
   "metadata": {},
   "outputs": [],
   "source": [
    " del (RMSE, U, sigma, Vt, all_user_predicted_ratings, given_num_of_ratings, possible_num_of_ratings, result, rmse_df, \n",
    "     density, preds_df, recommend_items, user_id)"
   ]
  },
  {
   "cell_type": "markdown",
   "metadata": {},
   "source": [
    "<a id='product'></a>\n",
    "##### **Product Similarity based on Sklearn Nearest Neighbor**"
   ]
  },
  {
   "cell_type": "code",
   "execution_count": 46,
   "metadata": {},
   "outputs": [
    {
     "name": "stdout",
     "output_type": "stream",
     "text": [
      "Product similarity based on Sklearn Nearest Neighbor\n",
      "--------------------------------------------------------------------------------\n",
      "Recommendations for B008R79VMQ:\n",
      "\n",
      "1: B0017S37IG, with distance of 0.3845425451033364:\n",
      "2: B003VVYL46, with distance of 0.3845425451033364:\n",
      "3: B0016VA4L2, with distance of 0.3845425451033364:\n",
      "4: B0014KO1M8, with distance of 0.3845425451033364:\n",
      "5: B007UE2SPE, with distance of 0.3845425451033364:\n"
     ]
    }
   ],
   "source": [
    "print('Product similarity based on Sklearn Nearest Neighbor'); print('--'*40)\n",
    "k = 5\n",
    "df_knn = ratings.pivot(index = 'ProductID', columns = 'UserID', values = 'Rating').fillna(0)\n",
    "df_knn_matrix = csr_matrix(df_knn.values)\n",
    "\n",
    "model_knn = NearestNeighbors(metric = 'cosine', algorithm = 'brute', n_neighbors = k)\n",
    "model_knn.fit(df_knn_matrix)\n",
    "\n",
    "query_item = np.random.choice(df_knn.shape[0])\n",
    "query_user = np.random.choice(df_knn.shape[1])\n",
    "distances, indices = model_knn.kneighbors(df_knn.iloc[query_item, :].values.reshape(1, -1), n_neighbors = k+1)\n",
    "\n",
    "for i in range(0, len(distances.flatten())):\n",
    "  if i == 0:\n",
    "    print('Recommendations for {0}:\\n'.format(df_knn.index[query_item]))\n",
    "  else:\n",
    "    print('{0}: {1}, with distance of {2}:'.format(i, df_knn.index[indices.flatten()[i]], distances.flatten()[i]))"
   ]
  },
  {
   "cell_type": "markdown",
   "metadata": {},
   "source": [
    "<a id='knn'></a>\n",
    "##### **Model based Collaborative Filtering: k-NN**"
   ]
  },
  {
   "cell_type": "code",
   "execution_count": 47,
   "metadata": {},
   "outputs": [
    {
     "name": "stdout",
     "output_type": "stream",
     "text": [
      "Further reducing the number of users\n",
      "Earlier we had considered users those who rated >=50 products, now to avoid memory issues let's take users those who've rated >100 products\n",
      "--------------------------------------------------------------------------------\n",
      "Number of rows 43309 and number of columns 6 in filtered dataframe\n",
      "Number of unique USERS in further filtered ratings dataframe =  280\n",
      "Number of unique PRODUCTS in further filteredratings dataframe =  22267\n"
     ]
    }
   ],
   "source": [
    "print('Further reducing the number of users'); \n",
    "print('Earlier we had considered users those who rated >=50 products, now to avoid memory issues let\\'s take users those who\\'ve rated >100 products')\n",
    "print('--'*40)\n",
    "\n",
    "ratings_df = ratings_df[ratings_df['UserIDCounts'] > 100]\n",
    "print(f'Number of rows {ratings_df.shape[0]} and number of columns {ratings_df.shape[1]} in filtered dataframe')\n",
    "print('Number of unique USERS in further filtered ratings dataframe = ', ratings_df['UserID'].nunique())\n",
    "print('Number of unique PRODUCTS in further filteredratings dataframe = ', ratings_df['ProductID'].nunique())\n",
    "\n",
    "ratings = ratings_df[['UserID', 'ProductID', 'Rating']]"
   ]
  },
  {
   "cell_type": "code",
   "execution_count": 48,
   "metadata": {},
   "outputs": [
    {
     "data": {
      "text/plain": [
       "101"
      ]
     },
     "execution_count": 48,
     "metadata": {},
     "output_type": "execute_result"
    }
   ],
   "source": [
    "ratings['UserID'].value_counts().min()"
   ]
  },
  {
   "cell_type": "code",
   "execution_count": 49,
   "metadata": {},
   "outputs": [
    {
     "data": {
      "text/plain": [
       "(30316, 3)"
      ]
     },
     "metadata": {},
     "output_type": "display_data"
    },
    {
     "data": {
      "text/plain": [
       "(12993, 3)"
      ]
     },
     "metadata": {},
     "output_type": "display_data"
    }
   ],
   "source": [
    "train_data, test_data = train_test_split(ratings, test_size = 0.30, random_state = random_state)\n",
    "display(train_data.shape, test_data.shape)"
   ]
  },
  {
   "cell_type": "code",
   "execution_count": 55,
   "metadata": {},
   "outputs": [
    {
     "name": "stdout",
     "output_type": "stream",
     "text": [
      "Getting the trainset and testset ready for recommender to be used\n",
      "--------------------------------------------------------------------------------\n"
     ]
    }
   ],
   "source": [
    "print('Getting the trainset and testset ready for recommender to be used'); print('--'*40)\n",
    "reader = Reader(rating_scale = (0, 5))\n",
    "data = Dataset.load_from_df(ratings[['UserID', 'ProductID', 'Rating']], reader)\n",
    "trainset = Dataset.load_from_df(train_data[['UserID', 'ProductID', 'Rating']], reader); \n",
    "testset = Dataset.load_from_df(test_data[['UserID', 'ProductID', 'Rating']], reader); "
   ]
  },
  {
   "cell_type": "code",
   "execution_count": 56,
   "metadata": {},
   "outputs": [
    {
     "name": "stdout",
     "output_type": "stream",
     "text": [
      "ITEM BASED COLLABORATIVE FILTERING USING k-NN INSPIRED ALGOS\n",
      "Grid Search across parameter grid to find best parameters using KNNBasic algorithm\n",
      "--------------------------------------------------------------------------------\n",
      "1.0665174778294766\n",
      "{'k': 10, 'verbose': False}\n"
     ]
    }
   ],
   "source": [
    "print('ITEM BASED COLLABORATIVE FILTERING USING k-NN INSPIRED ALGOS')\n",
    "print('Grid Search across parameter grid to find best parameters using KNNBasic algorithm'); print('--'*40)\n",
    "param_grid_KNNBasic = {'k': [3, 5, 10], 'verbose': [False]}\n",
    "\n",
    "gs_KNNBasic = GridSearchCV(KNNBasic, param_grid_KNNBasic, measures = ['rmse', 'mae'], cv = 3)\n",
    "gs_KNNBasic.fit(trainset)\n",
    "print(gs_KNNBasic.best_score['rmse'])\n",
    "print(gs_KNNBasic.best_params['rmse'])"
   ]
  },
  {
   "cell_type": "code",
   "execution_count": 57,
   "metadata": {},
   "outputs": [
    {
     "name": "stdout",
     "output_type": "stream",
     "text": [
      "ITEM BASED COLLABORATIVE FILTERING USING k-NN INSPIRED ALGOS\n",
      "Grid Search across parameter grid to find best parameters using KNNWithMeans algorithm\n",
      "--------------------------------------------------------------------------------\n",
      "1.035540579854745\n",
      "{'k': 10, 'verbose': False}\n"
     ]
    }
   ],
   "source": [
    "print('ITEM BASED COLLABORATIVE FILTERING USING k-NN INSPIRED ALGOS')\n",
    "print('Grid Search across parameter grid to find best parameters using KNNWithMeans algorithm'); print('--'*40)\n",
    "param_grid_KNNWithMeans = {'k': [3, 5, 10],'verbose': [False]}\n",
    "\n",
    "gs_KNNWithMeans = GridSearchCV(KNNWithMeans, param_grid_KNNWithMeans, measures = ['rmse', 'mae'], cv = 3)\n",
    "gs_KNNWithMeans.fit(trainset)\n",
    "print(gs_KNNWithMeans.best_score['rmse'])\n",
    "print(gs_KNNWithMeans.best_params['rmse'])"
   ]
  },
  {
   "cell_type": "code",
   "execution_count": 58,
   "metadata": {},
   "outputs": [
    {
     "name": "stdout",
     "output_type": "stream",
     "text": [
      "ITEM BASED COLLABORATIVE FILTERING USING k-NN INSPIRED ALGOS\n",
      "Grid Search across parameter grid to find best parameters using KNNWithZScore algorithm\n",
      "--------------------------------------------------------------------------------\n",
      "1.0426148622816844\n",
      "{'k': 10, 'verbose': False}\n"
     ]
    }
   ],
   "source": [
    "print('ITEM BASED COLLABORATIVE FILTERING USING k-NN INSPIRED ALGOS')\n",
    "print('Grid Search across parameter grid to find best parameters using KNNWithZScore algorithm'); print('--'*40)\n",
    "param_grid_KNNWithZScore = {'k': [3, 5, 10], 'verbose': [False]}\n",
    "\n",
    "gs_KNNWithZScore = GridSearchCV(KNNWithZScore, param_grid_KNNWithZScore, measures = ['rmse', 'mae'], cv = 3)\n",
    "gs_KNNWithZScore.fit(trainset)\n",
    "print(gs_KNNWithZScore.best_score['rmse'])\n",
    "print(gs_KNNWithZScore.best_params['rmse'])"
   ]
  },
  {
   "cell_type": "code",
   "execution_count": 60,
   "metadata": {},
   "outputs": [
    {
     "name": "stdout",
     "output_type": "stream",
     "text": [
      "ITEM BASED COLLABORATIVE FILTERING USING k-NN INSPIRED ALGOS\n",
      "Grid Search across parameter grid to find best parameters using KNNBaseline algorithm\n",
      "--------------------------------------------------------------------------------\n",
      "1.0060080074189413\n",
      "{'bsl_options': {'method': 'als', 'reg': 1}, 'k': 5, 'verbose': False}\n"
     ]
    }
   ],
   "source": [
    "print('ITEM BASED COLLABORATIVE FILTERING USING k-NN INSPIRED ALGOS')\n",
    "print('Grid Search across parameter grid to find best parameters using KNNBaseline algorithm'); print('--'*40)\n",
    "param_grid_KNNBaseline = {'bsl_options': {'method': ['als', 'sgd'], 'reg': [1, 2]}, 'k': [2, 3, 5], \n",
    "                          'verbose': [False]}\n",
    "\n",
    "gs_KNNBaseline = GridSearchCV(KNNBaseline, param_grid_KNNBaseline, measures = ['rmse', 'mae'], cv = 3)\n",
    "gs_KNNBaseline.fit(trainset)\n",
    "print(gs_KNNBaseline.best_score['rmse'])\n",
    "print(gs_KNNBaseline.best_params['rmse'])"
   ]
  },
  {
   "cell_type": "code",
   "execution_count": 61,
   "metadata": {},
   "outputs": [
    {
     "data": {
      "text/plain": [
       "44"
      ]
     },
     "execution_count": 61,
     "metadata": {},
     "output_type": "execute_result"
    }
   ],
   "source": [
    "del param_grid_KNNBasic, param_grid_KNNWithMeans, param_grid_KNNWithZScore, gs_KNNBasic, gs_KNNWithMeans, gs_KNNWithZScore\n",
    "gc.collect()"
   ]
  },
  {
   "cell_type": "markdown",
   "metadata": {},
   "source": [
    "<a id='o6'></a>\n",
    "###### Observation 6 - Algorithm choosen for Model based (Item) Collaborative Filtering using k-NN inspired method\n",
    "* Above we evaluated different k-NN inspired algorithms for item-based collaborative filtering. It can be seen that KNNBaseline algorithm gives the lowest RMSE of ~1.006.\n",
    "* k-fold cross-validate KNNBaseline algorithm using the best parameters, to see if there's any improvement in the RMSE."
   ]
  },
  {
   "cell_type": "code",
   "execution_count": 63,
   "metadata": {},
   "outputs": [
    {
     "name": "stdout",
     "output_type": "stream",
     "text": [
      "ITEM BASED COLLABORATIVE FILTERING USING k-NN INSPIRED ALGOS\n",
      "2-Fold cross validation using KNNBaseline and with best parameters identified during grid search\n",
      "--------------------------------------------------------------------------------\n",
      "RMSE: 1.0041\n",
      "RMSE: 1.0127\n",
      "--------------------------------------------------------------------------------\n",
      "RMSE OF ITEM BASED COLLABORATIVE FILTERING USING k-NN INSPIRED ALGORITHM AND 2-FOLD CROSS VALIDATION 1.0084\n"
     ]
    }
   ],
   "source": [
    "print('ITEM BASED COLLABORATIVE FILTERING USING k-NN INSPIRED ALGOS')\n",
    "print('2-Fold cross validation using KNNBaseline and with best parameters identified during grid search'); print('--'*40)\n",
    "kf = KFold(n_splits = 2)\n",
    "algo = KNNBaseline(**gs_KNNBaseline.best_params['rmse'])\n",
    "rmse_scores = []\n",
    "\n",
    "for train_, test_ in kf.split(data):\n",
    "    algo.fit(train_)\n",
    "    predictions = algo.test(test_)\n",
    "    rmse = round(accuracy.rmse(predictions, verbose = True), 4)\n",
    "    rmse_scores.append(rmse)\n",
    "\n",
    "    dump.dump('./dump_KNNBaseline_Item', predictions, algo)\n",
    "\n",
    "print('--'*40)\n",
    "print(f'RMSE OF ITEM BASED COLLABORATIVE FILTERING USING k-NN INSPIRED ALGORITHM AND 2-FOLD CROSS VALIDATION {round(np.mean(rmse_scores), 4)}')"
   ]
  },
  {
   "cell_type": "code",
   "execution_count": 64,
   "metadata": {},
   "outputs": [
    {
     "data": {
      "text/html": [
       "<div>\n",
       "<style scoped>\n",
       "    .dataframe tbody tr th:only-of-type {\n",
       "        vertical-align: middle;\n",
       "    }\n",
       "\n",
       "    .dataframe tbody tr th {\n",
       "        vertical-align: top;\n",
       "    }\n",
       "\n",
       "    .dataframe thead th {\n",
       "        text-align: right;\n",
       "    }\n",
       "</style>\n",
       "<table border=\"1\" class=\"dataframe\">\n",
       "  <thead>\n",
       "    <tr style=\"text-align: right;\">\n",
       "      <th></th>\n",
       "      <th>UserID</th>\n",
       "      <th>ProductID</th>\n",
       "      <th>ActualRating</th>\n",
       "      <th>EstRating</th>\n",
       "      <th>Details</th>\n",
       "      <th>Error</th>\n",
       "    </tr>\n",
       "  </thead>\n",
       "  <tbody>\n",
       "    <tr>\n",
       "      <th>0</th>\n",
       "      <td>A3TAS1AG6FMBQW</td>\n",
       "      <td>B00884WH74</td>\n",
       "      <td>5.00</td>\n",
       "      <td>5.00</td>\n",
       "      <td>{'actual_k': 4, 'was_impossible': False}</td>\n",
       "      <td>0.00</td>\n",
       "    </tr>\n",
       "    <tr>\n",
       "      <th>16797</th>\n",
       "      <td>A1SB9BNNGKNX2Z</td>\n",
       "      <td>B00017LSPI</td>\n",
       "      <td>5.00</td>\n",
       "      <td>5.00</td>\n",
       "      <td>{'actual_k': 1, 'was_impossible': False}</td>\n",
       "      <td>0.00</td>\n",
       "    </tr>\n",
       "    <tr>\n",
       "      <th>16787</th>\n",
       "      <td>A2HMF8ZR67BNZS</td>\n",
       "      <td>B000IN09C8</td>\n",
       "      <td>5.00</td>\n",
       "      <td>5.00</td>\n",
       "      <td>{'actual_k': 1, 'was_impossible': False}</td>\n",
       "      <td>0.00</td>\n",
       "    </tr>\n",
       "    <tr>\n",
       "      <th>1293</th>\n",
       "      <td>A1V3TRGWOMA8LC</td>\n",
       "      <td>B0002L5R78</td>\n",
       "      <td>5.00</td>\n",
       "      <td>5.00</td>\n",
       "      <td>{'actual_k': 4, 'was_impossible': False}</td>\n",
       "      <td>0.00</td>\n",
       "    </tr>\n",
       "    <tr>\n",
       "      <th>1292</th>\n",
       "      <td>A1CMD08Z49PGKQ</td>\n",
       "      <td>B003XIJ3MW</td>\n",
       "      <td>5.00</td>\n",
       "      <td>5.00</td>\n",
       "      <td>{'actual_k': 5, 'was_impossible': False}</td>\n",
       "      <td>0.00</td>\n",
       "    </tr>\n",
       "  </tbody>\n",
       "</table>\n",
       "</div>"
      ],
      "text/plain": [
       "               UserID   ProductID  ActualRating  EstRating  \\\n",
       "0      A3TAS1AG6FMBQW  B00884WH74          5.00       5.00   \n",
       "16797  A1SB9BNNGKNX2Z  B00017LSPI          5.00       5.00   \n",
       "16787  A2HMF8ZR67BNZS  B000IN09C8          5.00       5.00   \n",
       "1293   A1V3TRGWOMA8LC  B0002L5R78          5.00       5.00   \n",
       "1292   A1CMD08Z49PGKQ  B003XIJ3MW          5.00       5.00   \n",
       "\n",
       "                                        Details  Error  \n",
       "0      {'actual_k': 4, 'was_impossible': False}   0.00  \n",
       "16797  {'actual_k': 1, 'was_impossible': False}   0.00  \n",
       "16787  {'actual_k': 1, 'was_impossible': False}   0.00  \n",
       "1293   {'actual_k': 4, 'was_impossible': False}   0.00  \n",
       "1292   {'actual_k': 5, 'was_impossible': False}   0.00  "
      ]
     },
     "metadata": {},
     "output_type": "display_data"
    }
   ],
   "source": [
    "predictions, algo = dump.load('./dump_KNNBaseline_Item')\n",
    "df_user = pd.DataFrame(predictions, columns = ['UserID', 'ProductID', 'ActualRating', 'EstRating', 'Details'])\n",
    "df_user['Error'] = abs(df_user['EstRating'] - df_user['ActualRating'])\n",
    "df_user.sort_values('Error', inplace = True, ascending = True)\n",
    "\n",
    "display(df_user.head())"
   ]
  },
  {
   "cell_type": "code",
   "execution_count": 65,
   "metadata": {},
   "outputs": [
    {
     "name": "stdout",
     "output_type": "stream",
     "text": [
      "Actual vs Prediction Comparison\n",
      "--------------------------------------------------------------------------------\n"
     ]
    },
    {
     "data": {
      "image/png": "[encoded data removed]",
      "text/plain": [
       "<Figure size 1080x518.4 with 1 Axes>"
      ]
     },
     "metadata": {
      "needs_background": "light"
     },
     "output_type": "display_data"
    }
   ],
   "source": [
    "# Actual vs Prediction Comparison\n",
    "print('Actual vs Prediction Comparison'); print('--'*40)\n",
    "\n",
    "fig, ax = plt.subplots(figsize = (15, 7.2))\n",
    "fig.suptitle('Actual vs Prediction Comparison', fontsize = 14)\n",
    "df_user['EstRating'].plot.hist(bins = 25, alpha = 0.8)\n",
    "df_user['ActualRating'].plot.hist(bins = 25, alpha = 0.8)\n",
    "ax.legend(['Predictions', 'Actual'])\n",
    "plt.show()"
   ]
  },
  {
   "cell_type": "code",
   "execution_count": 66,
   "metadata": {},
   "outputs": [
    {
     "name": "stdout",
     "output_type": "stream",
     "text": [
      "Get top - K ( K = 5) recommendations.\n",
      "Since our goal is to recommend new products to each user based on his/her habits, we will recommend 5 new products.\n",
      "--------------------------------------------------------------------------------\n",
      "A check on what has the user liked in past (based on data available in training set, if there is) and making recommendations\n",
      "-------------------------------------------------------------------------------- \n",
      "\n",
      "User \"A11D1KHM7DVOQK\" has already rated products (from data in training set): 76\n",
      "Top 5 products from what's already being rated: ['B00005V54U', 'B0001LD00A', 'B00061IYFQ', 'B0002I5RHG', 'B0009FUFPG']\n",
      "Top 5 recommendations for the user are: ['B0001MKU52', 'B0000E1717', 'B00004Z0BN', 'B00005QBUU', 'B00008VF63']\n",
      "\n",
      "\n",
      "User \"A149RNR5RH19YY\" has already rated products (from data in training set): 95\n",
      "Top 5 products from what's already being rated: ['B000BTL0OA', 'B00003006E', 'B001OOZ1X2', 'B000062TTF', 'B00385XTWA']\n",
      "Top 5 recommendations for the user are: ['B001F51G16', 'B00008I9K8', 'B00001P4ZH', 'B001OOZ1X2', 'B00003006E']\n"
     ]
    }
   ],
   "source": [
    "# Query top 5 recommendations for specific UserID\n",
    "print('Get top - K ( K = 5) recommendations.')\n",
    "print('Since our goal is to recommend new products to each user based on his/her habits, we will recommend 5 new products.'); print('--'*40)\n",
    "result = {}\n",
    "\n",
    "def query_user(user_id):\n",
    "  try:\n",
    "    print('User \"{}\" has already rated products (from data in training set): {}'.format(user_id, train_data.loc[(train_data['UserID'] == user_id), 'ProductID'].nunique()))\n",
    "    print('Top 5 products from what\\'s already being rated: {}'.format(list(train_data[(train_data['UserID'] == user_id)].sort_values(by = 'Rating', ascending = False).head(5)['ProductID'])))\n",
    "  except:\n",
    "    print('There\\'s no data for the selected user in training set')\n",
    "  print('Top 5 recommendations for the user are: {}'.format(list(df_user[(df_user['UserID'] == user_id)].sort_values(by = 'EstRating', ascending = False).head(5)['ProductID'])))\n",
    "  return list(df_user[(df_user['UserID'] == user_id)].sort_values(by = 'EstRating', ascending = False).head(5)['ProductID'])\n",
    "\n",
    "# For e.g. querying for the following user\n",
    "print('A check on what has the user liked in past (based on data available in training set, if there is) and making recommendations');\n",
    "print('--'*40, '\\n')\n",
    "\n",
    "result['A11D1KHM7DVOQK'] = query_user('A11D1KHM7DVOQK')\n",
    "print('\\n')\n",
    "result['A149RNR5RH19YY'] = query_user('A149RNR5RH19YY')"
   ]
  },
  {
   "cell_type": "code",
   "execution_count": 67,
   "metadata": {},
   "outputs": [
    {
     "data": {
      "text/plain": [
       "{'PopularityRec': {'A11D1KHM7DVOQK': ['B0000645V0',\n",
       "   'B0011YR8KO',\n",
       "   'B00JE0Q95M',\n",
       "   'B004T0B8O4',\n",
       "   'B000VQU3N2'],\n",
       "  'A149RNR5RH19YY': ['B0000645V0',\n",
       "   'B0011YR8KO',\n",
       "   'B00JE0Q95M',\n",
       "   'B004T0B8O4',\n",
       "   'B000VQU3N2']},\n",
       " 'SVD Item-based Collaborative Filtering': {'A11D1KHM7DVOQK': ['B007WTAJTO',\n",
       "   'B005CT56F8',\n",
       "   'B00829THK0',\n",
       "   'B003ZSHNGS',\n",
       "   'B00825BZUY'],\n",
       "  'A149RNR5RH19YY': ['B00829THK0',\n",
       "   'B007WTAJTO',\n",
       "   'B00829TIEK',\n",
       "   'B002R5AM7C',\n",
       "   'B003ES5ZUU']},\n",
       " 'k-NN Item-based Collaborative Filtering': {'A11D1KHM7DVOQK': ['B0001MKU52',\n",
       "   'B0000E1717',\n",
       "   'B00004Z0BN',\n",
       "   'B00005QBUU',\n",
       "   'B00008VF63'],\n",
       "  'A149RNR5RH19YY': ['B001F51G16',\n",
       "   'B00008I9K8',\n",
       "   'B00001P4ZH',\n",
       "   'B001OOZ1X2',\n",
       "   'B00003006E']}}"
      ]
     },
     "metadata": {},
     "output_type": "display_data"
    }
   ],
   "source": [
    "compare_dict['k-NN Item-based Collaborative Filtering'] = result\n",
    "display(compare_dict)"
   ]
  },
  {
   "cell_type": "code",
   "execution_count": 68,
   "metadata": {},
   "outputs": [
    {
     "data": {
      "text/html": [
       "<div>\n",
       "<style scoped>\n",
       "    .dataframe tbody tr th:only-of-type {\n",
       "        vertical-align: middle;\n",
       "    }\n",
       "\n",
       "    .dataframe tbody tr th {\n",
       "        vertical-align: top;\n",
       "    }\n",
       "\n",
       "    .dataframe thead th {\n",
       "        text-align: right;\n",
       "    }\n",
       "</style>\n",
       "<table border=\"1\" class=\"dataframe\">\n",
       "  <thead>\n",
       "    <tr style=\"text-align: right;\">\n",
       "      <th></th>\n",
       "      <th>UserID</th>\n",
       "      <th>ProductID</th>\n",
       "      <th>ActualRating</th>\n",
       "      <th>EstRating</th>\n",
       "      <th>Details</th>\n",
       "      <th>Error</th>\n",
       "    </tr>\n",
       "  </thead>\n",
       "  <tbody>\n",
       "    <tr>\n",
       "      <th>0</th>\n",
       "      <td>A3TAS1AG6FMBQW</td>\n",
       "      <td>B00884WH74</td>\n",
       "      <td>5.00</td>\n",
       "      <td>5.00</td>\n",
       "      <td>{'actual_k': 4, 'was_impossible': False}</td>\n",
       "      <td>0.00</td>\n",
       "    </tr>\n",
       "    <tr>\n",
       "      <th>16797</th>\n",
       "      <td>A1SB9BNNGKNX2Z</td>\n",
       "      <td>B00017LSPI</td>\n",
       "      <td>5.00</td>\n",
       "      <td>5.00</td>\n",
       "      <td>{'actual_k': 1, 'was_impossible': False}</td>\n",
       "      <td>0.00</td>\n",
       "    </tr>\n",
       "    <tr>\n",
       "      <th>16787</th>\n",
       "      <td>A2HMF8ZR67BNZS</td>\n",
       "      <td>B000IN09C8</td>\n",
       "      <td>5.00</td>\n",
       "      <td>5.00</td>\n",
       "      <td>{'actual_k': 1, 'was_impossible': False}</td>\n",
       "      <td>0.00</td>\n",
       "    </tr>\n",
       "    <tr>\n",
       "      <th>1293</th>\n",
       "      <td>A1V3TRGWOMA8LC</td>\n",
       "      <td>B0002L5R78</td>\n",
       "      <td>5.00</td>\n",
       "      <td>5.00</td>\n",
       "      <td>{'actual_k': 4, 'was_impossible': False}</td>\n",
       "      <td>0.00</td>\n",
       "    </tr>\n",
       "    <tr>\n",
       "      <th>1292</th>\n",
       "      <td>A1CMD08Z49PGKQ</td>\n",
       "      <td>B003XIJ3MW</td>\n",
       "      <td>5.00</td>\n",
       "      <td>5.00</td>\n",
       "      <td>{'actual_k': 5, 'was_impossible': False}</td>\n",
       "      <td>0.00</td>\n",
       "    </tr>\n",
       "  </tbody>\n",
       "</table>\n",
       "</div>"
      ],
      "text/plain": [
       "               UserID   ProductID  ActualRating  EstRating  \\\n",
       "0      A3TAS1AG6FMBQW  B00884WH74          5.00       5.00   \n",
       "16797  A1SB9BNNGKNX2Z  B00017LSPI          5.00       5.00   \n",
       "16787  A2HMF8ZR67BNZS  B000IN09C8          5.00       5.00   \n",
       "1293   A1V3TRGWOMA8LC  B0002L5R78          5.00       5.00   \n",
       "1292   A1CMD08Z49PGKQ  B003XIJ3MW          5.00       5.00   \n",
       "\n",
       "                                        Details  Error  \n",
       "0      {'actual_k': 4, 'was_impossible': False}   0.00  \n",
       "16797  {'actual_k': 1, 'was_impossible': False}   0.00  \n",
       "16787  {'actual_k': 1, 'was_impossible': False}   0.00  \n",
       "1293   {'actual_k': 4, 'was_impossible': False}   0.00  \n",
       "1292   {'actual_k': 5, 'was_impossible': False}   0.00  "
      ]
     },
     "execution_count": 68,
     "metadata": {},
     "output_type": "execute_result"
    }
   ],
   "source": [
    "df_user.head()"
   ]
  },
  {
   "cell_type": "code",
   "execution_count": 69,
   "metadata": {},
   "outputs": [],
   "source": [
    "del (algo, ax, fig, gs_KNNBaseline, kf, param_grid_KNNBaseline, predictions, rmse, rmse_scores, train_, test_)"
   ]
  },
  {
   "cell_type": "markdown",
   "metadata": {},
   "source": [
    "<a id='o7'></a>\n",
    "###### Observation 7 - Item based Collaborative Filtering (k-NN)\n",
    "* Using k-NN inspired algos for item based collaborative filtering  and 2-Fold cross validation, we get a RMSE score of ~0.9655."
   ]
  },
  {
   "cell_type": "code",
   "execution_count": 71,
   "metadata": {},
   "outputs": [
    {
     "name": "stdout",
     "output_type": "stream",
     "text": [
      "USER BASED COLLABORATIVE FILTERING USING k-NN INSPIRED ALGOS\n",
      "Grid Search across parameter grid to find best parameters using KNNBaseline algorithm\n",
      "--------------------------------------------------------------------------------\n",
      "1.0055519953107819\n",
      "{'bsl_options': {'method': 'als', 'reg': 1}, 'k': 5, 'user_based': True, 'verbose': False}\n"
     ]
    }
   ],
   "source": [
    "print('USER BASED COLLABORATIVE FILTERING USING k-NN INSPIRED ALGOS')\n",
    "print('Grid Search across parameter grid to find best parameters using KNNBaseline algorithm'); print('--'*40)\n",
    "param_grid_KNNBaseline = {'bsl_options': {'method': ['als', 'sgd'], 'reg': [1, 2]}, 'k': [2, 3, 5], \n",
    "                          'user_based': [True],\n",
    "                          'verbose': [False]}\n",
    "\n",
    "gs_KNNBaseline = GridSearchCV(KNNBaseline, param_grid_KNNBaseline, measures = ['rmse', 'mae'], cv = 3)\n",
    "gs_KNNBaseline.fit(trainset)\n",
    "print(gs_KNNBaseline.best_score['rmse'])\n",
    "print(gs_KNNBaseline.best_params['rmse'])"
   ]
  },
  {
   "cell_type": "code",
   "execution_count": 72,
   "metadata": {},
   "outputs": [
    {
     "name": "stdout",
     "output_type": "stream",
     "text": [
      "USER BASED COLLABORATIVE FILTERING USING k-NN INSPIRED ALGOS\n",
      "2-Fold cross validation using KNNBaseline and with best parameters identified during grid search\n",
      "--------------------------------------------------------------------------------\n",
      "RMSE: 1.0041\n",
      "RMSE: 1.0042\n",
      "--------------------------------------------------------------------------------\n",
      "RMSE OF USER BASED COLLABORATIVE FILTERING USING k-NN INSPIRED ALGORITHM AND 2-FOLD CROSS VALIDATION 1.0042\n"
     ]
    }
   ],
   "source": [
    "print('USER BASED COLLABORATIVE FILTERING USING k-NN INSPIRED ALGOS')\n",
    "print('2-Fold cross validation using KNNBaseline and with best parameters identified during grid search'); print('--'*40)\n",
    "kf = KFold(n_splits = 2)\n",
    "algo = KNNBaseline(**gs_KNNBaseline.best_params['rmse'])\n",
    "rmse_scores = []\n",
    "\n",
    "for train_, test_ in kf.split(data):\n",
    "    algo.fit(train_)\n",
    "    predictions = algo.test(test_)\n",
    "    rmse = round(accuracy.rmse(predictions, verbose = True), 4)\n",
    "    rmse_scores.append(rmse)\n",
    "\n",
    "    dump.dump('./dump_KNNBaseline_User', predictions, algo)\n",
    "\n",
    "print('--'*40)\n",
    "print(f'RMSE OF USER BASED COLLABORATIVE FILTERING USING k-NN INSPIRED ALGORITHM AND 2-FOLD CROSS VALIDATION {round(np.mean(rmse_scores), 4)}')"
   ]
  },
  {
   "cell_type": "code",
   "execution_count": 73,
   "metadata": {},
   "outputs": [
    {
     "data": {
      "text/html": [
       "<div>\n",
       "<style scoped>\n",
       "    .dataframe tbody tr th:only-of-type {\n",
       "        vertical-align: middle;\n",
       "    }\n",
       "\n",
       "    .dataframe tbody tr th {\n",
       "        vertical-align: top;\n",
       "    }\n",
       "\n",
       "    .dataframe thead th {\n",
       "        text-align: right;\n",
       "    }\n",
       "</style>\n",
       "<table border=\"1\" class=\"dataframe\">\n",
       "  <thead>\n",
       "    <tr style=\"text-align: right;\">\n",
       "      <th></th>\n",
       "      <th>UserID</th>\n",
       "      <th>ProductID</th>\n",
       "      <th>ActualRating</th>\n",
       "      <th>EstRating</th>\n",
       "      <th>Details</th>\n",
       "      <th>Error</th>\n",
       "    </tr>\n",
       "  </thead>\n",
       "  <tbody>\n",
       "    <tr>\n",
       "      <th>0</th>\n",
       "      <td>A1G650TTTHEAL5</td>\n",
       "      <td>B00DVFLJDS</td>\n",
       "      <td>5.00</td>\n",
       "      <td>5.00</td>\n",
       "      <td>{'actual_k': 2, 'was_impossible': False}</td>\n",
       "      <td>0.00</td>\n",
       "    </tr>\n",
       "    <tr>\n",
       "      <th>9934</th>\n",
       "      <td>A1G650TTTHEAL5</td>\n",
       "      <td>B00CHH0JF0</td>\n",
       "      <td>5.00</td>\n",
       "      <td>5.00</td>\n",
       "      <td>{'actual_k': 4, 'was_impossible': False}</td>\n",
       "      <td>0.00</td>\n",
       "    </tr>\n",
       "    <tr>\n",
       "      <th>9949</th>\n",
       "      <td>A20DDH4NT6Q1E8</td>\n",
       "      <td>B00FNPD1OY</td>\n",
       "      <td>5.00</td>\n",
       "      <td>5.00</td>\n",
       "      <td>{'actual_k': 2, 'was_impossible': False}</td>\n",
       "      <td>0.00</td>\n",
       "    </tr>\n",
       "    <tr>\n",
       "      <th>9965</th>\n",
       "      <td>A2BYV7S1QP2YIG</td>\n",
       "      <td>B00GN1TDNU</td>\n",
       "      <td>5.00</td>\n",
       "      <td>5.00</td>\n",
       "      <td>{'actual_k': 1, 'was_impossible': False}</td>\n",
       "      <td>0.00</td>\n",
       "    </tr>\n",
       "    <tr>\n",
       "      <th>1207</th>\n",
       "      <td>A4WEZJOIZIV4U</td>\n",
       "      <td>B00BQ4F9ZA</td>\n",
       "      <td>5.00</td>\n",
       "      <td>5.00</td>\n",
       "      <td>{'actual_k': 5, 'was_impossible': False}</td>\n",
       "      <td>0.00</td>\n",
       "    </tr>\n",
       "  </tbody>\n",
       "</table>\n",
       "</div>"
      ],
      "text/plain": [
       "              UserID   ProductID  ActualRating  EstRating  \\\n",
       "0     A1G650TTTHEAL5  B00DVFLJDS          5.00       5.00   \n",
       "9934  A1G650TTTHEAL5  B00CHH0JF0          5.00       5.00   \n",
       "9949  A20DDH4NT6Q1E8  B00FNPD1OY          5.00       5.00   \n",
       "9965  A2BYV7S1QP2YIG  B00GN1TDNU          5.00       5.00   \n",
       "1207   A4WEZJOIZIV4U  B00BQ4F9ZA          5.00       5.00   \n",
       "\n",
       "                                       Details  Error  \n",
       "0     {'actual_k': 2, 'was_impossible': False}   0.00  \n",
       "9934  {'actual_k': 4, 'was_impossible': False}   0.00  \n",
       "9949  {'actual_k': 2, 'was_impossible': False}   0.00  \n",
       "9965  {'actual_k': 1, 'was_impossible': False}   0.00  \n",
       "1207  {'actual_k': 5, 'was_impossible': False}   0.00  "
      ]
     },
     "metadata": {},
     "output_type": "display_data"
    }
   ],
   "source": [
    "predictions, algo = dump.load('./dump_KNNBaseline_User')\n",
    "df_user = pd.DataFrame(predictions, columns = ['UserID', 'ProductID', 'ActualRating', 'EstRating', 'Details'])\n",
    "df_user['Error'] = abs(df_user['EstRating'] - df_user['ActualRating'])\n",
    "df_user.sort_values('Error', inplace = True, ascending = True)\n",
    "\n",
    "display(df_user.head())"
   ]
  },
  {
   "cell_type": "code",
   "execution_count": 74,
   "metadata": {},
   "outputs": [
    {
     "name": "stdout",
     "output_type": "stream",
     "text": [
      "A check on what has the user liked in past (based on data available in training set, if there is) and making recommendations\n",
      "-------------------------------------------------------------------------------- \n",
      "\n",
      "User \"A11D1KHM7DVOQK\" has already rated products (from data in training set): 76\n",
      "Top 5 products from what's already being rated: ['B00005V54U', 'B0001LD00A', 'B00061IYFQ', 'B0002I5RHG', 'B0009FUFPG']\n",
      "Top 5 recommendations for the user are: ['B00022TN9A', 'B00005T39Y', 'B0001G6UCA', 'B0007ZAK4O', 'B00009L1RI']\n",
      "\n",
      "\n",
      "User \"A149RNR5RH19YY\" has already rated products (from data in training set): 95\n",
      "Top 5 products from what's already being rated: ['B000BTL0OA', 'B00003006E', 'B001OOZ1X2', 'B000062TTF', 'B00385XTWA']\n",
      "Top 5 recommendations for the user are: ['B001OOZ1X2', 'B004YLAYHA', 'B000089GN3', 'B001EZRJZE', 'B00B99JU5M']\n"
     ]
    }
   ],
   "source": [
    "print('A check on what has the user liked in past (based on data available in training set, if there is) and making recommendations');\n",
    "print('--'*40, '\\n')\n",
    "result = {}\n",
    "\n",
    "result['A11D1KHM7DVOQK'] = query_user('A11D1KHM7DVOQK')\n",
    "print('\\n')\n",
    "result['A149RNR5RH19YY'] = query_user('A149RNR5RH19YY')"
   ]
  },
  {
   "cell_type": "code",
   "execution_count": 75,
   "metadata": {},
   "outputs": [
    {
     "data": {
      "text/plain": [
       "{'PopularityRec': {'A11D1KHM7DVOQK': ['B0000645V0',\n",
       "   'B0011YR8KO',\n",
       "   'B00JE0Q95M',\n",
       "   'B004T0B8O4',\n",
       "   'B000VQU3N2'],\n",
       "  'A149RNR5RH19YY': ['B0000645V0',\n",
       "   'B0011YR8KO',\n",
       "   'B00JE0Q95M',\n",
       "   'B004T0B8O4',\n",
       "   'B000VQU3N2']},\n",
       " 'SVD Item-based Collaborative Filtering': {'A11D1KHM7DVOQK': ['B007WTAJTO',\n",
       "   'B005CT56F8',\n",
       "   'B00829THK0',\n",
       "   'B003ZSHNGS',\n",
       "   'B00825BZUY'],\n",
       "  'A149RNR5RH19YY': ['B00829THK0',\n",
       "   'B007WTAJTO',\n",
       "   'B00829TIEK',\n",
       "   'B002R5AM7C',\n",
       "   'B003ES5ZUU']},\n",
       " 'k-NN Item-based Collaborative Filtering': {'A11D1KHM7DVOQK': ['B0001MKU52',\n",
       "   'B0000E1717',\n",
       "   'B00004Z0BN',\n",
       "   'B00005QBUU',\n",
       "   'B00008VF63'],\n",
       "  'A149RNR5RH19YY': ['B001F51G16',\n",
       "   'B00008I9K8',\n",
       "   'B00001P4ZH',\n",
       "   'B001OOZ1X2',\n",
       "   'B00003006E']},\n",
       " 'k-NN User-based Collaborative Filtering': {'A11D1KHM7DVOQK': ['B00022TN9A',\n",
       "   'B00005T39Y',\n",
       "   'B0001G6UCA',\n",
       "   'B0007ZAK4O',\n",
       "   'B00009L1RI'],\n",
       "  'A149RNR5RH19YY': ['B001OOZ1X2',\n",
       "   'B004YLAYHA',\n",
       "   'B000089GN3',\n",
       "   'B001EZRJZE',\n",
       "   'B00B99JU5M']}}"
      ]
     },
     "metadata": {},
     "output_type": "display_data"
    }
   ],
   "source": [
    "compare_dict['k-NN User-based Collaborative Filtering'] = result\n",
    "display(compare_dict)"
   ]
  },
  {
   "cell_type": "markdown",
   "metadata": {},
   "source": [
    "<a id='o8'></a>\n",
    "###### Observation 8 - User based Collaborative Filtering (k-NN)\n",
    "* Using k-NN inspired algos for user based collaborative filtering  and 2-Fold cross validation, we get a RMSE score of ~0.9826. "
   ]
  },
  {
   "cell_type": "markdown",
   "metadata": {},
   "source": [
    "<a id='conclusion'></a>\n",
    "### Conclusion\n",
    "* Non-personalized based recommendation system (such as popularity) is generated by averaging the recommendations for all the users. Here we recommended top 5 products to the users. Also saw how we can make use of count to suggest popular products to the users and hybrid popularity based recommender based on a combination of mean and count. However in popularity based recommendation, all users receive same recommendations. RMSE of popularity recommendation method based on mean of ratings was 3.0894.\n",
    "\n",
    "* Collaborative-based recommendations are personalized since the rating \"prediction\" differs depending on the target user and it is based on\n",
    "  * User-to-user: ratings for a given product expressed by users that are similar to the active user.\n",
    "  * Item-to-item: weighted average of the ratings of the active users for the similar items.\n",
    "\n",
    "* Collaborative based filtering method requires a minimal knowledge engineering efforts when compared to methods such as content-based recsys. This method is based on user history, but what if the user is new (where there is no user history)? It's one of the limitations of the method known as cold-start problem.\n",
    "\n",
    "* Items with lots of history gets recommended a lot, while those without never make it into the recommendation engine.\n",
    "\n",
    "* Additionally, collaborative based filtering methods face scalability issues particularly in our case where the number of users (4,201,696) and items (476,002) were high (sparse data), especially when recommendations need to be generated in real-time online. To overcome this, we filtered users who have rated at least 50 products, this left about 1,540 number of users and 48,190 products in the dataframe and these were further reduced to select only those users with > 100 ratings to avoid memory issues while using k-NN inspired algorithms.\n",
    "\n",
    "* Since our goal was to build a recsys to recommend products to customers based on their previous ratings for other products, we built an item-based collaborative filtering recommendation system. Used two model-based approaches to do that: SVD and k-NN inspired algos.\n",
    "\n",
    "* We saw that SVD had a RMSE score of 0.0033. We also compared various k-NN based algorithms using grid search method and found that KNN Baseline algo gave the lowest RMSE, we then used 2-fold cross validation technique which gave a RMSE of 0.9655.\n",
    "\n",
    "* Also explored kNN Baseline algo for user-based collaborative filtering, RMSE (0.9826) was slightly higher than item-based CF."
   ]
  },
  {
   "cell_type": "code",
   "execution_count": null,
   "metadata": {},
   "outputs": [],
   "source": []
  }
 ],
 "metadata": {
  "kernelspec": {
   "display_name": "Python 3",
   "language": "python",
   "name": "python3"
  },
  "language_info": {
   "codemirror_mode": {
    "name": "ipython",
    "version": 3
   },
   "file_extension": ".py",
   "mimetype": "text/x-python",
   "name": "python",
   "nbconvert_exporter": "python",
   "pygments_lexer": "ipython3",
   "version": "3.7.6"
  }
 },
 "nbformat": 4,
 "nbformat_minor": 4
}
